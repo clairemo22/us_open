{
 "cells": [
  {
   "cell_type": "markdown",
   "id": "a723c78a",
   "metadata": {},
   "source": [
    "# us open\n",
    "\n",
    "the us open is this weekend, and I wanted to play around with a few machine learning models to see if I could predict:\n",
    "\n",
    "* who wil make the cut\n",
    "* who will finish where\n",
    "\n",
    "these two questions can be answered with machine learning classificaiton and regression problems. to predict who will make the cut, we will have a training data set that contains player name, season several strokes gained variables and whether they made they cut or not. this training data set contains data from only US opens in 2019, 2021 and 2022. \n",
    "\n",
    "the testing data set will then contain player name, season and the same strokes gained variables from tournaments thus far (through RBC heritage canadian open) in 2023. I believe to score the model we need to have data on who actually makes the cut in the 2023 US open... so I am not sure if we can fully answer this question yet.\n",
    "\n",
    "to predict who will finish where, we can run a regression model that uses the strokes gained variables and year to predict finish from those previous three US opens. we can train a model on the same data, except the \"target\" variable is no longer binary (0/1). the testing data set will be the same as above, and we should be able to use the `predict()` function to predict finsh in this year's US open, based on average strokes gained this season"
   ]
  },
  {
   "cell_type": "code",
   "execution_count": 60,
   "id": "1c348808",
   "metadata": {},
   "outputs": [],
   "source": [
    "import pandas as pd\n",
    "import numpy as np\n",
    "import matplotlib.pyplot as plt\n",
    "\n",
    "%matplotlib inline \n",
    "# we want plots to appear in line in the notebook\n",
    "\n",
    "# models from sklearn\n",
    "\n",
    "from sklearn.linear_model import LogisticRegression\n",
    "from sklearn.neighbors import KNeighborsClassifier\n",
    "from sklearn.ensemble import RandomForestClassifier\n",
    "\n",
    "# model evals\n",
    "\n",
    "from sklearn.model_selection import train_test_split, cross_val_score\n",
    "from sklearn.model_selection import RandomizedSearchCV, GridSearchCV\n",
    "from sklearn.metrics import confusion_matrix, classification_report\n",
    "from sklearn.metrics import accuracy_score, precision_score, recall_score, f1_score\n",
    "from sklearn.metrics import roc_curve, auc, RocCurveDisplay\n"
   ]
  },
  {
   "cell_type": "markdown",
   "id": "fee95968",
   "metadata": {},
   "source": [
    "## the data\n",
    "\n",
    "I played around with this same data in R, so I have created all the training and testing files already. the training data (US open strokes gained from 2019, 2021, 2022) comes from <https://www.kaggle.com/datasets/robikscube/pga-tour-golf-data-20152022>, and the testing data (2023 strokes gained through the RBC Candadian Open -- tournament directly preceeding US open) comes from <https://www.pgatour.com/stats/strokes-gained>.\n",
    "\n",
    "**a big caveat is that I do not have LIV strokes gained data for 2023** I suppose I could have attempted to locate it but as of now I do not, and thus the LIV players are not included in these data analyses"
   ]
  },
  {
   "cell_type": "markdown",
   "id": "f0a41449",
   "metadata": {},
   "source": [
    "### classification problem: who makes the cut?"
   ]
  },
  {
   "cell_type": "code",
   "execution_count": 12,
   "id": "6013ddef",
   "metadata": {},
   "outputs": [],
   "source": [
    "train_class = pd.read_csv(\"usopen_classification_train.csv\")"
   ]
  },
  {
   "cell_type": "code",
   "execution_count": 13,
   "id": "9bc998be",
   "metadata": {
    "scrolled": true
   },
   "outputs": [
    {
     "data": {
      "text/html": [
       "<div>\n",
       "<style scoped>\n",
       "    .dataframe tbody tr th:only-of-type {\n",
       "        vertical-align: middle;\n",
       "    }\n",
       "\n",
       "    .dataframe tbody tr th {\n",
       "        vertical-align: top;\n",
       "    }\n",
       "\n",
       "    .dataframe thead th {\n",
       "        text-align: right;\n",
       "    }\n",
       "</style>\n",
       "<table border=\"1\" class=\"dataframe\">\n",
       "  <thead>\n",
       "    <tr style=\"text-align: right;\">\n",
       "      <th></th>\n",
       "      <th>player id</th>\n",
       "      <th>season</th>\n",
       "      <th>sg_putt</th>\n",
       "      <th>sg_arg</th>\n",
       "      <th>sg_app</th>\n",
       "      <th>sg_ott</th>\n",
       "      <th>finish_class</th>\n",
       "    </tr>\n",
       "  </thead>\n",
       "  <tbody>\n",
       "    <tr>\n",
       "      <th>0</th>\n",
       "      <td>5548</td>\n",
       "      <td>2022</td>\n",
       "      <td>1.30</td>\n",
       "      <td>0.80</td>\n",
       "      <td>0.54</td>\n",
       "      <td>0.21</td>\n",
       "      <td>1</td>\n",
       "    </tr>\n",
       "    <tr>\n",
       "      <th>1</th>\n",
       "      <td>3832</td>\n",
       "      <td>2022</td>\n",
       "      <td>-1.42</td>\n",
       "      <td>0.73</td>\n",
       "      <td>0.87</td>\n",
       "      <td>-0.81</td>\n",
       "      <td>0</td>\n",
       "    </tr>\n",
       "    <tr>\n",
       "      <th>2</th>\n",
       "      <td>5502</td>\n",
       "      <td>2022</td>\n",
       "      <td>1.43</td>\n",
       "      <td>0.60</td>\n",
       "      <td>-0.48</td>\n",
       "      <td>-0.45</td>\n",
       "      <td>1</td>\n",
       "    </tr>\n",
       "    <tr>\n",
       "      <th>3</th>\n",
       "      <td>10372</td>\n",
       "      <td>2022</td>\n",
       "      <td>0.66</td>\n",
       "      <td>0.65</td>\n",
       "      <td>0.14</td>\n",
       "      <td>0.14</td>\n",
       "      <td>1</td>\n",
       "    </tr>\n",
       "    <tr>\n",
       "      <th>4</th>\n",
       "      <td>388</td>\n",
       "      <td>2022</td>\n",
       "      <td>0.54</td>\n",
       "      <td>0.79</td>\n",
       "      <td>1.20</td>\n",
       "      <td>-0.43</td>\n",
       "      <td>1</td>\n",
       "    </tr>\n",
       "  </tbody>\n",
       "</table>\n",
       "</div>"
      ],
      "text/plain": [
       "   player id  season  sg_putt  sg_arg  sg_app  sg_ott  finish_class\n",
       "0       5548    2022     1.30    0.80    0.54    0.21             1\n",
       "1       3832    2022    -1.42    0.73    0.87   -0.81             0\n",
       "2       5502    2022     1.43    0.60   -0.48   -0.45             1\n",
       "3      10372    2022     0.66    0.65    0.14    0.14             1\n",
       "4        388    2022     0.54    0.79    1.20   -0.43             1"
      ]
     },
     "execution_count": 13,
     "metadata": {},
     "output_type": "execute_result"
    }
   ],
   "source": [
    "train_class.head()"
   ]
  },
  {
   "cell_type": "code",
   "execution_count": 14,
   "id": "7dc32f44",
   "metadata": {},
   "outputs": [
    {
     "name": "stdout",
     "output_type": "stream",
     "text": [
      "<class 'pandas.core.frame.DataFrame'>\n",
      "RangeIndex: 478 entries, 0 to 477\n",
      "Data columns (total 7 columns):\n",
      " #   Column        Non-Null Count  Dtype  \n",
      "---  ------        --------------  -----  \n",
      " 0   player id     478 non-null    int64  \n",
      " 1   season        478 non-null    int64  \n",
      " 2   sg_putt       478 non-null    float64\n",
      " 3   sg_arg        478 non-null    float64\n",
      " 4   sg_app        478 non-null    float64\n",
      " 5   sg_ott        478 non-null    float64\n",
      " 6   finish_class  478 non-null    int64  \n",
      "dtypes: float64(4), int64(3)\n",
      "memory usage: 26.3 KB\n"
     ]
    }
   ],
   "source": [
    "train_class.info()"
   ]
  },
  {
   "cell_type": "markdown",
   "id": "9e021492",
   "metadata": {},
   "source": [
    "the below plot shows how many made and missed the cut in the previous opens in our data set"
   ]
  },
  {
   "cell_type": "code",
   "execution_count": 15,
   "id": "875fd434",
   "metadata": {},
   "outputs": [
    {
     "data": {
      "image/png": "[encoded data removed]",
      "text/plain": [
       "<Figure size 640x480 with 1 Axes>"
      ]
     },
     "metadata": {},
     "output_type": "display_data"
    }
   ],
   "source": [
    "train_class.finish_class.value_counts().plot(kind=\"bar\", color=[\"salmon\", \"lightblue\"]);"
   ]
  },
  {
   "cell_type": "markdown",
   "id": "cc803bf1",
   "metadata": {},
   "source": [
    "the following plot shows strokes gained off the tee (x axis) by strokes gained putting (y axis) for those who made (red) and missed (blue) the cut. the plot is showing a somewhat linear relationship between the 2 variables -- and slightly higher strokes gained in both areas for those who made the cut vs missed. however, the data seem relatively simily, which makes me wonder if it will be hard to predict who is finishing where. perhaps due to something like the US open being a highly competitive field where players are all playing at a high clip... and might be hard to build a model with a high prediction accuracy! "
   ]
  },
  {
   "cell_type": "code",
   "execution_count": 21,
   "id": "1a66e704",
   "metadata": {},
   "outputs": [
    {
     "data": {
      "image/png": "[encoded data removed]",
      "text/plain": [
       "<Figure size 1000x600 with 1 Axes>"
      ]
     },
     "metadata": {},
     "output_type": "display_data"
    }
   ],
   "source": [
    "plt.figure(figsize=(10,6))\n",
    "\n",
    "# scatter\n",
    "\n",
    "plt.scatter(train_class.sg_ott[train_class.finish_class==1],\n",
    "           train_class.sg_putt[train_class.finish_class==1],\n",
    "           color=\"salmon\")\n",
    "\n",
    "# scatter with negative examples\n",
    "\n",
    "plt.scatter(train_class.sg_ott[train_class.finish_class==0],\n",
    "           train_class.sg_putt[train_class.finish_class==0],\n",
    "           c=\"lightblue\")\n",
    "\n",
    "plt.title(\"strokes gained off the tee and putting for those who made and missed the cut\")\n",
    "\n",
    "plt.xlabel(\"strokes gained off the tee\")\n",
    "plt.ylabel(\"strokes gained putting\")\n",
    "plt.xticks(rotation=0);"
   ]
  },
  {
   "cell_type": "markdown",
   "id": "cba021b7",
   "metadata": {},
   "source": [
    "#### begin building a model that predicts who will make or miss the cut just based on the training data\n",
    "\n",
    "we are going to only use the training data set (and split that into training and testing) for now to score and create a model that predicts with high accuracy. then, we will use the untouched testing data to make predictions based on that tuned model"
   ]
  },
  {
   "cell_type": "code",
   "execution_count": 16,
   "id": "ac49ad4b",
   "metadata": {},
   "outputs": [],
   "source": [
    "# split data into x and y\n",
    "\n",
    "x= train_class.drop(\"finish_class\", axis=1)\n",
    "\n",
    "y= train_class.finish_class"
   ]
  },
  {
   "cell_type": "code",
   "execution_count": 17,
   "id": "19af77d7",
   "metadata": {},
   "outputs": [],
   "source": [
    "np.random.seed(22)\n",
    "\n",
    "# split into training and testing data (again, here just using the old training data)\n",
    "\n",
    "x_train, x_test, y_train, y_test = train_test_split(x,y,test_size=0.2)"
   ]
  },
  {
   "cell_type": "markdown",
   "id": "a3f5fd62",
   "metadata": {},
   "source": [
    "#### logistic regression model\n",
    "\n",
    "Logistic regression is a statistical method for predicting binary classes. The outcome or target variable is dichotomous in nature. Dichotomous means there are only two possible classes. For example, it can be used for cancer detection problems. It computes the probability of an event occurrence.\n",
    "\n",
    "It is a special case of linear regression where the target variable is categorical in nature. It uses a log of odds as the dependent variable. Logistic Regression predicts the probability of occurrence of a binary event utilizing a logit function."
   ]
  },
  {
   "cell_type": "code",
   "execution_count": 18,
   "id": "ec45ad2b",
   "metadata": {},
   "outputs": [
    {
     "data": {
      "text/plain": [
       "0.5833333333333334"
      ]
     },
     "execution_count": 18,
     "metadata": {},
     "output_type": "execute_result"
    }
   ],
   "source": [
    "### logistic regression\n",
    "\n",
    "np.random.seed(22)\n",
    "\n",
    "logreg= LogisticRegression()\n",
    "\n",
    "logreg.fit(x_train,y_train)\n",
    "logreg.score(x_test,y_test) ### not very good\n"
   ]
  },
  {
   "cell_type": "markdown",
   "id": "c9f6b5ee",
   "metadata": {},
   "source": [
    "our model was scored with an R2 of 58%... that is not a great score so we are going to try using another method\n",
    "\n",
    "#### random forest classifier \n",
    "\n",
    "A random forest is a supervised machine learning estimator that fits a number of decision tree classifiers on various sub-samples of the dataset and uses averaging to improve the predictive accuracy and control over-fitting. It consists of a large number of individual decision trees that operate as an ensemble. Each individual tree in the random forest spits out a class prediction and the class with the most votes becomes our model’s prediction"
   ]
  },
  {
   "cell_type": "code",
   "execution_count": 20,
   "id": "a7dd9217",
   "metadata": {},
   "outputs": [
    {
     "data": {
      "text/plain": [
       "0.8229166666666666"
      ]
     },
     "execution_count": 20,
     "metadata": {},
     "output_type": "execute_result"
    }
   ],
   "source": [
    "## random forest\n",
    "\n",
    "np.random.seed(42)\n",
    "\n",
    "RF= RandomForestClassifier()\n",
    "\n",
    "RF.fit(x_train,y_train)\n",
    "RF.score(x_test,y_test) ### better"
   ]
  },
  {
   "cell_type": "markdown",
   "id": "5b4abf17",
   "metadata": {},
   "source": [
    "our R2 for the random forest model was up to around 83%, so we are going to use that method but tune the model a bit more specifically to our data"
   ]
  },
  {
   "cell_type": "markdown",
   "id": "7daf45c9",
   "metadata": {},
   "source": [
    "#### tune hyper parameters with `gridsearchCV()`\n",
    "\n",
    "this function takes parameters associated with the model and searches across a grid of different inputs for those parameters to find which combinations made the model perform the best,"
   ]
  },
  {
   "cell_type": "code",
   "execution_count": 31,
   "id": "17e53292",
   "metadata": {},
   "outputs": [],
   "source": [
    "# different hyper parameterss for random forest\n",
    "\n",
    "# these are just random input parameters I am trying here for this model. \n",
    "# tbh I am not 100% sure how to know what to try but this is what I learned\n",
    "\n",
    "rf_grid = {\n",
    "    'bootstrap': [True],\n",
    "    'max_depth': [80, 90, 100, 110],\n",
    "    'max_features': [2, 3],\n",
    "    'min_samples_leaf': [3, 4, 5],\n",
    "    'min_samples_split': [8, 10, 12],\n",
    "    'n_estimators': [100, 200, 300, 1000]\n",
    "}\n",
    "\n",
    "gs_rf = GridSearchCV(estimator = RandomForestClassifier(), param_grid = rf_grid, \n",
    "                          cv = 3, n_jobs = -1, verbose = 2)\n",
    "\n",
    "# fit"
   ]
  },
  {
   "cell_type": "code",
   "execution_count": 117,
   "id": "b28b4a2b",
   "metadata": {},
   "outputs": [
    {
     "name": "stdout",
     "output_type": "stream",
     "text": [
      "Fitting 3 folds for each of 216 candidates, totalling 648 fits\n"
     ]
    },
    {
     "data": {
      "text/html": [
       "<style>#sk-container-id-15 {color: black;background-color: white;}#sk-container-id-15 pre{padding: 0;}#sk-container-id-15 div.sk-toggleable {background-color: white;}#sk-container-id-15 label.sk-toggleable__label {cursor: pointer;display: block;width: 100%;margin-bottom: 0;padding: 0.3em;box-sizing: border-box;text-align: center;}#sk-container-id-15 label.sk-toggleable__label-arrow:before {content: \"▸\";float: left;margin-right: 0.25em;color: #696969;}#sk-container-id-15 label.sk-toggleable__label-arrow:hover:before {color: black;}#sk-container-id-15 div.sk-estimator:hover label.sk-toggleable__label-arrow:before {color: black;}#sk-container-id-15 div.sk-toggleable__content {max-height: 0;max-width: 0;overflow: hidden;text-align: left;background-color: #f0f8ff;}#sk-container-id-15 div.sk-toggleable__content pre {margin: 0.2em;color: black;border-radius: 0.25em;background-color: #f0f8ff;}#sk-container-id-15 input.sk-toggleable__control:checked~div.sk-toggleable__content {max-height: 200px;max-width: 100%;overflow: auto;}#sk-container-id-15 input.sk-toggleable__control:checked~label.sk-toggleable__label-arrow:before {content: \"▾\";}#sk-container-id-15 div.sk-estimator input.sk-toggleable__control:checked~label.sk-toggleable__label {background-color: #d4ebff;}#sk-container-id-15 div.sk-label input.sk-toggleable__control:checked~label.sk-toggleable__label {background-color: #d4ebff;}#sk-container-id-15 input.sk-hidden--visually {border: 0;clip: rect(1px 1px 1px 1px);clip: rect(1px, 1px, 1px, 1px);height: 1px;margin: -1px;overflow: hidden;padding: 0;position: absolute;width: 1px;}#sk-container-id-15 div.sk-estimator {font-family: monospace;background-color: #f0f8ff;border: 1px dotted black;border-radius: 0.25em;box-sizing: border-box;margin-bottom: 0.5em;}#sk-container-id-15 div.sk-estimator:hover {background-color: #d4ebff;}#sk-container-id-15 div.sk-parallel-item::after {content: \"\";width: 100%;border-bottom: 1px solid gray;flex-grow: 1;}#sk-container-id-15 div.sk-label:hover label.sk-toggleable__label {background-color: #d4ebff;}#sk-container-id-15 div.sk-serial::before {content: \"\";position: absolute;border-left: 1px solid gray;box-sizing: border-box;top: 0;bottom: 0;left: 50%;z-index: 0;}#sk-container-id-15 div.sk-serial {display: flex;flex-direction: column;align-items: center;background-color: white;padding-right: 0.2em;padding-left: 0.2em;position: relative;}#sk-container-id-15 div.sk-item {position: relative;z-index: 1;}#sk-container-id-15 div.sk-parallel {display: flex;align-items: stretch;justify-content: center;background-color: white;position: relative;}#sk-container-id-15 div.sk-item::before, #sk-container-id-15 div.sk-parallel-item::before {content: \"\";position: absolute;border-left: 1px solid gray;box-sizing: border-box;top: 0;bottom: 0;left: 50%;z-index: -1;}#sk-container-id-15 div.sk-parallel-item {display: flex;flex-direction: column;z-index: 1;position: relative;background-color: white;}#sk-container-id-15 div.sk-parallel-item:first-child::after {align-self: flex-end;width: 50%;}#sk-container-id-15 div.sk-parallel-item:last-child::after {align-self: flex-start;width: 50%;}#sk-container-id-15 div.sk-parallel-item:only-child::after {width: 0;}#sk-container-id-15 div.sk-dashed-wrapped {border: 1px dashed gray;margin: 0 0.4em 0.5em 0.4em;box-sizing: border-box;padding-bottom: 0.4em;background-color: white;}#sk-container-id-15 div.sk-label label {font-family: monospace;font-weight: bold;display: inline-block;line-height: 1.2em;}#sk-container-id-15 div.sk-label-container {text-align: center;}#sk-container-id-15 div.sk-container {/* jupyter's `normalize.less` sets `[hidden] { display: none; }` but bootstrap.min.css set `[hidden] { display: none !important; }` so we also need the `!important` here to be able to override the default hidden behavior on the sphinx rendered scikit-learn.org. See: https://github.com/scikit-learn/scikit-learn/issues/21755 */display: inline-block !important;position: relative;}#sk-container-id-15 div.sk-text-repr-fallback {display: none;}</style><div id=\"sk-container-id-15\" class=\"sk-top-container\"><div class=\"sk-text-repr-fallback\"><pre>GridSearchCV(cv=3, estimator=RandomForestRegressor(), n_jobs=-1,\n",
       "             param_grid={&#x27;bootstrap&#x27;: [True], &#x27;max_depth&#x27;: [80, 90, 100, 110],\n",
       "                         &#x27;max_features&#x27;: [2, 3], &#x27;min_samples_leaf&#x27;: [3, 4, 5],\n",
       "                         &#x27;min_samples_split&#x27;: [8, 10, 12],\n",
       "                         &#x27;n_estimators&#x27;: [100, 150, 278]},\n",
       "             verbose=2)</pre><b>In a Jupyter environment, please rerun this cell to show the HTML representation or trust the notebook. <br />On GitHub, the HTML representation is unable to render, please try loading this page with nbviewer.org.</b></div><div class=\"sk-container\" hidden><div class=\"sk-item sk-dashed-wrapped\"><div class=\"sk-label-container\"><div class=\"sk-label sk-toggleable\"><input class=\"sk-toggleable__control sk-hidden--visually\" id=\"sk-estimator-id-33\" type=\"checkbox\" ><label for=\"sk-estimator-id-33\" class=\"sk-toggleable__label sk-toggleable__label-arrow\">GridSearchCV</label><div class=\"sk-toggleable__content\"><pre>GridSearchCV(cv=3, estimator=RandomForestRegressor(), n_jobs=-1,\n",
       "             param_grid={&#x27;bootstrap&#x27;: [True], &#x27;max_depth&#x27;: [80, 90, 100, 110],\n",
       "                         &#x27;max_features&#x27;: [2, 3], &#x27;min_samples_leaf&#x27;: [3, 4, 5],\n",
       "                         &#x27;min_samples_split&#x27;: [8, 10, 12],\n",
       "                         &#x27;n_estimators&#x27;: [100, 150, 278]},\n",
       "             verbose=2)</pre></div></div></div><div class=\"sk-parallel\"><div class=\"sk-parallel-item\"><div class=\"sk-item\"><div class=\"sk-label-container\"><div class=\"sk-label sk-toggleable\"><input class=\"sk-toggleable__control sk-hidden--visually\" id=\"sk-estimator-id-34\" type=\"checkbox\" ><label for=\"sk-estimator-id-34\" class=\"sk-toggleable__label sk-toggleable__label-arrow\">estimator: RandomForestRegressor</label><div class=\"sk-toggleable__content\"><pre>RandomForestRegressor()</pre></div></div></div><div class=\"sk-serial\"><div class=\"sk-item\"><div class=\"sk-estimator sk-toggleable\"><input class=\"sk-toggleable__control sk-hidden--visually\" id=\"sk-estimator-id-35\" type=\"checkbox\" ><label for=\"sk-estimator-id-35\" class=\"sk-toggleable__label sk-toggleable__label-arrow\">RandomForestRegressor</label><div class=\"sk-toggleable__content\"><pre>RandomForestRegressor()</pre></div></div></div></div></div></div></div></div></div></div>"
      ],
      "text/plain": [
       "GridSearchCV(cv=3, estimator=RandomForestRegressor(), n_jobs=-1,\n",
       "             param_grid={'bootstrap': [True], 'max_depth': [80, 90, 100, 110],\n",
       "                         'max_features': [2, 3], 'min_samples_leaf': [3, 4, 5],\n",
       "                         'min_samples_split': [8, 10, 12],\n",
       "                         'n_estimators': [100, 150, 278]},\n",
       "             verbose=2)"
      ]
     },
     "execution_count": 117,
     "metadata": {},
     "output_type": "execute_result"
    }
   ],
   "source": [
    "gs_rf.fit(x_train,y_train)"
   ]
  },
  {
   "cell_type": "code",
   "execution_count": 35,
   "id": "1c09b55c",
   "metadata": {},
   "outputs": [
    {
     "data": {
      "text/plain": [
       "{'bootstrap': True,\n",
       " 'max_depth': 100,\n",
       " 'max_features': 2,\n",
       " 'min_samples_leaf': 5,\n",
       " 'min_samples_split': 12,\n",
       " 'n_estimators': 100}"
      ]
     },
     "execution_count": 35,
     "metadata": {},
     "output_type": "execute_result"
    }
   ],
   "source": [
    "gs_rf.best_params_"
   ]
  },
  {
   "cell_type": "code",
   "execution_count": 47,
   "id": "e66bcb15",
   "metadata": {},
   "outputs": [],
   "source": [
    "# create model based on those best parameters identified above\n",
    "\n",
    "clf= RandomForestClassifier(bootstrap=True,\n",
    "                           max_depth=100,\n",
    "                           max_features=2,\n",
    "                            min_samples_leaf=5,\n",
    "                            min_samples_split=12,\n",
    "                            n_estimators=100,\n",
    "                           random_state=22)"
   ]
  },
  {
   "cell_type": "markdown",
   "id": "dab4d947",
   "metadata": {},
   "source": [
    "now, still using just the training data, we can get several measures of model performance:\n",
    "    \n",
    "    * accuracy\n",
    "    * precision\n",
    "    * recall1\n",
    "    * F1\n",
    "    \n",
    "we can do this using cross validation. cross validation will split the data into (here: 5) groups and run the model on all splits. that way, we get a range of scores/ model performances and not just 1 based on a random split. because of that, we can pass the model the `cross_val_score()` function all the data (x&y) because it will split it"
   ]
  },
  {
   "cell_type": "code",
   "execution_count": 48,
   "id": "7093c259",
   "metadata": {},
   "outputs": [
    {
     "data": {
      "text/plain": [
       "0.820219298245614"
      ]
     },
     "execution_count": 48,
     "metadata": {},
     "output_type": "execute_result"
    }
   ],
   "source": [
    "### cross validated accuracy\n",
    "\n",
    "cv_acc = cross_val_score(clf,\n",
    "                         x,   ### can pass all x and y data bc using CV\n",
    "                         y,\n",
    "                         cv=5,\n",
    "                         scoring=\"accuracy\")\n",
    "\n",
    "cv_acc.mean() ## accuracy over 80% for cross validated data"
   ]
  },
  {
   "cell_type": "code",
   "execution_count": 49,
   "id": "ca7dcd0e",
   "metadata": {},
   "outputs": [
    {
     "data": {
      "text/plain": [
       "0.8481287851631585"
      ]
     },
     "execution_count": 49,
     "metadata": {},
     "output_type": "execute_result"
    }
   ],
   "source": [
    "### cross validated precision\n",
    "\n",
    "cv_prec = cross_val_score(clf,\n",
    "                         x,   ### can pass all x and y data bc using CV\n",
    "                         y,\n",
    "                         cv=5,\n",
    "                         scoring=\"precision\")\n",
    "\n",
    "cv_prec.mean() ## precision over 80%"
   ]
  },
  {
   "cell_type": "code",
   "execution_count": 39,
   "id": "74315a71",
   "metadata": {},
   "outputs": [
    {
     "data": {
      "text/plain": [
       "0.7943877551020408"
      ]
     },
     "execution_count": 39,
     "metadata": {},
     "output_type": "execute_result"
    }
   ],
   "source": [
    "### cross validated recall\n",
    "\n",
    "cv_recall = cross_val_score(clf,\n",
    "                         x,   ### can pass all x and y data bc using CV\n",
    "                         y,\n",
    "                         cv=5,\n",
    "                         scoring=\"recall\")\n",
    "\n",
    "cv_recall.mean() # recall close to 80%"
   ]
  },
  {
   "cell_type": "code",
   "execution_count": 50,
   "id": "9fc85363",
   "metadata": {},
   "outputs": [
    {
     "data": {
      "text/plain": [
       "0.8202818124968877"
      ]
     },
     "execution_count": 50,
     "metadata": {},
     "output_type": "execute_result"
    }
   ],
   "source": [
    "### cross validated F1 score\n",
    "\n",
    "cv_f1 = cross_val_score(clf,\n",
    "                         x,   ### can pass all x and y data bc using CV\n",
    "                         y,\n",
    "                         cv=5,\n",
    "                         scoring=\"f1\")\n",
    "\n",
    "cv_f1.mean() ## F1 score over 80%"
   ]
  },
  {
   "cell_type": "markdown",
   "id": "0d7fc61e",
   "metadata": {},
   "source": [
    "now, we can fit the model to the training data and get predictions to really ensure our model is performing well"
   ]
  },
  {
   "cell_type": "code",
   "execution_count": 51,
   "id": "88673b06",
   "metadata": {},
   "outputs": [
    {
     "data": {
      "text/html": [
       "<style>#sk-container-id-9 {color: black;background-color: white;}#sk-container-id-9 pre{padding: 0;}#sk-container-id-9 div.sk-toggleable {background-color: white;}#sk-container-id-9 label.sk-toggleable__label {cursor: pointer;display: block;width: 100%;margin-bottom: 0;padding: 0.3em;box-sizing: border-box;text-align: center;}#sk-container-id-9 label.sk-toggleable__label-arrow:before {content: \"▸\";float: left;margin-right: 0.25em;color: #696969;}#sk-container-id-9 label.sk-toggleable__label-arrow:hover:before {color: black;}#sk-container-id-9 div.sk-estimator:hover label.sk-toggleable__label-arrow:before {color: black;}#sk-container-id-9 div.sk-toggleable__content {max-height: 0;max-width: 0;overflow: hidden;text-align: left;background-color: #f0f8ff;}#sk-container-id-9 div.sk-toggleable__content pre {margin: 0.2em;color: black;border-radius: 0.25em;background-color: #f0f8ff;}#sk-container-id-9 input.sk-toggleable__control:checked~div.sk-toggleable__content {max-height: 200px;max-width: 100%;overflow: auto;}#sk-container-id-9 input.sk-toggleable__control:checked~label.sk-toggleable__label-arrow:before {content: \"▾\";}#sk-container-id-9 div.sk-estimator input.sk-toggleable__control:checked~label.sk-toggleable__label {background-color: #d4ebff;}#sk-container-id-9 div.sk-label input.sk-toggleable__control:checked~label.sk-toggleable__label {background-color: #d4ebff;}#sk-container-id-9 input.sk-hidden--visually {border: 0;clip: rect(1px 1px 1px 1px);clip: rect(1px, 1px, 1px, 1px);height: 1px;margin: -1px;overflow: hidden;padding: 0;position: absolute;width: 1px;}#sk-container-id-9 div.sk-estimator {font-family: monospace;background-color: #f0f8ff;border: 1px dotted black;border-radius: 0.25em;box-sizing: border-box;margin-bottom: 0.5em;}#sk-container-id-9 div.sk-estimator:hover {background-color: #d4ebff;}#sk-container-id-9 div.sk-parallel-item::after {content: \"\";width: 100%;border-bottom: 1px solid gray;flex-grow: 1;}#sk-container-id-9 div.sk-label:hover label.sk-toggleable__label {background-color: #d4ebff;}#sk-container-id-9 div.sk-serial::before {content: \"\";position: absolute;border-left: 1px solid gray;box-sizing: border-box;top: 0;bottom: 0;left: 50%;z-index: 0;}#sk-container-id-9 div.sk-serial {display: flex;flex-direction: column;align-items: center;background-color: white;padding-right: 0.2em;padding-left: 0.2em;position: relative;}#sk-container-id-9 div.sk-item {position: relative;z-index: 1;}#sk-container-id-9 div.sk-parallel {display: flex;align-items: stretch;justify-content: center;background-color: white;position: relative;}#sk-container-id-9 div.sk-item::before, #sk-container-id-9 div.sk-parallel-item::before {content: \"\";position: absolute;border-left: 1px solid gray;box-sizing: border-box;top: 0;bottom: 0;left: 50%;z-index: -1;}#sk-container-id-9 div.sk-parallel-item {display: flex;flex-direction: column;z-index: 1;position: relative;background-color: white;}#sk-container-id-9 div.sk-parallel-item:first-child::after {align-self: flex-end;width: 50%;}#sk-container-id-9 div.sk-parallel-item:last-child::after {align-self: flex-start;width: 50%;}#sk-container-id-9 div.sk-parallel-item:only-child::after {width: 0;}#sk-container-id-9 div.sk-dashed-wrapped {border: 1px dashed gray;margin: 0 0.4em 0.5em 0.4em;box-sizing: border-box;padding-bottom: 0.4em;background-color: white;}#sk-container-id-9 div.sk-label label {font-family: monospace;font-weight: bold;display: inline-block;line-height: 1.2em;}#sk-container-id-9 div.sk-label-container {text-align: center;}#sk-container-id-9 div.sk-container {/* jupyter's `normalize.less` sets `[hidden] { display: none; }` but bootstrap.min.css set `[hidden] { display: none !important; }` so we also need the `!important` here to be able to override the default hidden behavior on the sphinx rendered scikit-learn.org. See: https://github.com/scikit-learn/scikit-learn/issues/21755 */display: inline-block !important;position: relative;}#sk-container-id-9 div.sk-text-repr-fallback {display: none;}</style><div id=\"sk-container-id-9\" class=\"sk-top-container\"><div class=\"sk-text-repr-fallback\"><pre>RandomForestClassifier(max_depth=100, max_features=2, min_samples_leaf=5,\n",
       "                       min_samples_split=12, random_state=22)</pre><b>In a Jupyter environment, please rerun this cell to show the HTML representation or trust the notebook. <br />On GitHub, the HTML representation is unable to render, please try loading this page with nbviewer.org.</b></div><div class=\"sk-container\" hidden><div class=\"sk-item\"><div class=\"sk-estimator sk-toggleable\"><input class=\"sk-toggleable__control sk-hidden--visually\" id=\"sk-estimator-id-23\" type=\"checkbox\" checked><label for=\"sk-estimator-id-23\" class=\"sk-toggleable__label sk-toggleable__label-arrow\">RandomForestClassifier</label><div class=\"sk-toggleable__content\"><pre>RandomForestClassifier(max_depth=100, max_features=2, min_samples_leaf=5,\n",
       "                       min_samples_split=12, random_state=22)</pre></div></div></div></div></div>"
      ],
      "text/plain": [
       "RandomForestClassifier(max_depth=100, max_features=2, min_samples_leaf=5,\n",
       "                       min_samples_split=12, random_state=22)"
      ]
     },
     "execution_count": 51,
     "metadata": {},
     "output_type": "execute_result"
    }
   ],
   "source": [
    "%%capture --no-display\n",
    "clf.fit(x_train,y_train)"
   ]
  },
  {
   "cell_type": "code",
   "execution_count": 52,
   "id": "d3db918b",
   "metadata": {},
   "outputs": [
    {
     "data": {
      "text/plain": [
       "0.9162303664921466"
      ]
     },
     "execution_count": 52,
     "metadata": {},
     "output_type": "execute_result"
    }
   ],
   "source": [
    "clf.score(x_train,y_train) # nice job!! "
   ]
  },
  {
   "cell_type": "markdown",
   "id": "f00fcf4f",
   "metadata": {},
   "source": [
    "our model, on only training data so far, is predicting who makes or misses the cut with an R2 of almost 92%. that indicates it is minimizing a lot of error and predicting well. "
   ]
  },
  {
   "cell_type": "code",
   "execution_count": 62,
   "id": "4dfb5366",
   "metadata": {},
   "outputs": [
    {
     "data": {
      "text/plain": [
       "0.875"
      ]
     },
     "execution_count": 62,
     "metadata": {},
     "output_type": "execute_result"
    }
   ],
   "source": [
    "# make predictions\n",
    "\n",
    "y_preds= clf.predict(x_test) # best fitting model\n",
    "\n",
    "accuracy_score(y_test, y_preds)"
   ]
  },
  {
   "cell_type": "markdown",
   "id": "bc53d213",
   "metadata": {},
   "source": [
    "above we see our final model on the testing data has almost 88% accuracy. that's pretty good for this! the below plot is a confusion matrix and shows our correct and false predicitons based on the training data. the false predictions are in the black cells, meaning we only mis-predicted 12 total observations."
   ]
  },
  {
   "cell_type": "code",
   "execution_count": 63,
   "id": "2af1aee5",
   "metadata": {},
   "outputs": [
    {
     "data": {
      "image/png": "[encoded data removed]",
      "text/plain": [
       "<Figure size 300x300 with 1 Axes>"
      ]
     },
     "metadata": {},
     "output_type": "display_data"
    }
   ],
   "source": [
    "import seaborn as sns \n",
    "\n",
    "sns.set(font_scale=1.5)\n",
    "\n",
    "def plot_conf_mat(y_test,y_preds):\n",
    "    \"\"\"\n",
    "    Plots a nice looking confusion matrix using seaborn's heatmap()\n",
    "    \"\"\"\n",
    "    fig, ax=plt.subplots(figsize=(3,3))\n",
    "    ax= sns.heatmap(confusion_matrix(y_test,y_preds),\n",
    "                   annot=True,\n",
    "                   cbar=False)\n",
    "    plt.xlabel(\"predicted label\")\n",
    "    plt.ylabel(\"true label\")\n",
    "    \n",
    "plot_conf_mat(y_test,y_preds)"
   ]
  },
  {
   "cell_type": "markdown",
   "id": "96942724",
   "metadata": {},
   "source": [
    "#### now, let's make predictions based on the 2023 strokes gained data\n",
    "\n",
    "or the *real* testing data"
   ]
  },
  {
   "cell_type": "code",
   "execution_count": 57,
   "id": "f7beac75",
   "metadata": {},
   "outputs": [],
   "source": [
    "test = pd.read_csv(\"usopen_test.csv\")"
   ]
  },
  {
   "cell_type": "code",
   "execution_count": 58,
   "id": "b38397d3",
   "metadata": {},
   "outputs": [
    {
     "data": {
      "text/html": [
       "<div>\n",
       "<style scoped>\n",
       "    .dataframe tbody tr th:only-of-type {\n",
       "        vertical-align: middle;\n",
       "    }\n",
       "\n",
       "    .dataframe tbody tr th {\n",
       "        vertical-align: top;\n",
       "    }\n",
       "\n",
       "    .dataframe thead th {\n",
       "        text-align: right;\n",
       "    }\n",
       "</style>\n",
       "<table border=\"1\" class=\"dataframe\">\n",
       "  <thead>\n",
       "    <tr style=\"text-align: right;\">\n",
       "      <th></th>\n",
       "      <th>player id</th>\n",
       "      <th>season</th>\n",
       "      <th>sg_putt</th>\n",
       "      <th>sg_arg</th>\n",
       "      <th>sg_app</th>\n",
       "      <th>sg_ott</th>\n",
       "    </tr>\n",
       "  </thead>\n",
       "  <tbody>\n",
       "    <tr>\n",
       "      <th>0</th>\n",
       "      <td>16</td>\n",
       "      <td>2023</td>\n",
       "      <td>0.351</td>\n",
       "      <td>0.534</td>\n",
       "      <td>0.025</td>\n",
       "      <td>-0.423</td>\n",
       "    </tr>\n",
       "    <tr>\n",
       "      <th>1</th>\n",
       "      <td>10577</td>\n",
       "      <td>2023</td>\n",
       "      <td>0.559</td>\n",
       "      <td>0.228</td>\n",
       "      <td>-0.795</td>\n",
       "      <td>-0.170</td>\n",
       "    </tr>\n",
       "    <tr>\n",
       "      <th>2</th>\n",
       "      <td>5548</td>\n",
       "      <td>2023</td>\n",
       "      <td>0.356</td>\n",
       "      <td>0.103</td>\n",
       "      <td>0.350</td>\n",
       "      <td>0.048</td>\n",
       "    </tr>\n",
       "    <tr>\n",
       "      <th>3</th>\n",
       "      <td>6015</td>\n",
       "      <td>2023</td>\n",
       "      <td>0.406</td>\n",
       "      <td>0.094</td>\n",
       "      <td>-0.539</td>\n",
       "      <td>-0.285</td>\n",
       "    </tr>\n",
       "    <tr>\n",
       "      <th>4</th>\n",
       "      <td>10372</td>\n",
       "      <td>2023</td>\n",
       "      <td>0.355</td>\n",
       "      <td>0.106</td>\n",
       "      <td>0.099</td>\n",
       "      <td>0.024</td>\n",
       "    </tr>\n",
       "  </tbody>\n",
       "</table>\n",
       "</div>"
      ],
      "text/plain": [
       "   player id  season  sg_putt  sg_arg  sg_app  sg_ott\n",
       "0         16    2023    0.351   0.534   0.025  -0.423\n",
       "1      10577    2023    0.559   0.228  -0.795  -0.170\n",
       "2       5548    2023    0.356   0.103   0.350   0.048\n",
       "3       6015    2023    0.406   0.094  -0.539  -0.285\n",
       "4      10372    2023    0.355   0.106   0.099   0.024"
      ]
     },
     "execution_count": 58,
     "metadata": {},
     "output_type": "execute_result"
    }
   ],
   "source": [
    "test.head()"
   ]
  },
  {
   "cell_type": "code",
   "execution_count": 64,
   "id": "338173bc",
   "metadata": {},
   "outputs": [],
   "source": [
    "# call our same model (the best tuned random forest model)\n",
    "\n",
    "us_open_preds= clf.predict(test)"
   ]
  },
  {
   "cell_type": "code",
   "execution_count": 65,
   "id": "bf6af22f",
   "metadata": {},
   "outputs": [
    {
     "data": {
      "text/plain": [
       "array([1, 0, 1, 1, 1, 1, 1, 1, 1, 1, 1, 1, 1, 1, 0, 1, 0, 1, 1, 1, 1, 1,\n",
       "       1, 1, 1, 1, 1, 1, 1, 0, 1, 1, 1, 1, 1, 1, 1, 1, 0, 1, 1, 1, 1, 1,\n",
       "       1, 1, 1, 0, 0, 1, 1, 1, 1, 1, 1, 1, 1, 1, 1, 0, 0, 1, 1, 0, 0, 1,\n",
       "       0, 0, 0, 1, 1, 1, 1, 1, 1, 0, 1, 1, 1, 1, 1, 1, 1, 1, 1, 1, 0, 1,\n",
       "       1, 1, 0, 1, 1, 1, 1, 1, 1, 0, 1, 1, 1, 1, 1, 1, 0, 1, 1, 1, 1, 1,\n",
       "       1, 1, 0, 1, 1, 1, 0, 1, 1, 1, 1])"
      ]
     },
     "execution_count": 65,
     "metadata": {},
     "output_type": "execute_result"
    }
   ],
   "source": [
    "# what our predictions look like -- series of 0s and 1s\n",
    "\n",
    "us_open_preds"
   ]
  },
  {
   "cell_type": "markdown",
   "id": "6393c084",
   "metadata": {},
   "source": [
    "now, we cannot score our model for real because the US open has not happened. so we have no idea how the model is really performing, but we do have predictions we can be on the lookout for!"
   ]
  },
  {
   "cell_type": "code",
   "execution_count": 67,
   "id": "cd8ba918",
   "metadata": {},
   "outputs": [],
   "source": [
    "test[\"preds\"]= us_open_preds"
   ]
  },
  {
   "cell_type": "code",
   "execution_count": 68,
   "id": "0313a80c",
   "metadata": {},
   "outputs": [
    {
     "data": {
      "text/html": [
       "<div>\n",
       "<style scoped>\n",
       "    .dataframe tbody tr th:only-of-type {\n",
       "        vertical-align: middle;\n",
       "    }\n",
       "\n",
       "    .dataframe tbody tr th {\n",
       "        vertical-align: top;\n",
       "    }\n",
       "\n",
       "    .dataframe thead th {\n",
       "        text-align: right;\n",
       "    }\n",
       "</style>\n",
       "<table border=\"1\" class=\"dataframe\">\n",
       "  <thead>\n",
       "    <tr style=\"text-align: right;\">\n",
       "      <th></th>\n",
       "      <th>player id</th>\n",
       "      <th>season</th>\n",
       "      <th>sg_putt</th>\n",
       "      <th>sg_arg</th>\n",
       "      <th>sg_app</th>\n",
       "      <th>sg_ott</th>\n",
       "      <th>preds</th>\n",
       "    </tr>\n",
       "  </thead>\n",
       "  <tbody>\n",
       "    <tr>\n",
       "      <th>0</th>\n",
       "      <td>16</td>\n",
       "      <td>2023</td>\n",
       "      <td>0.351</td>\n",
       "      <td>0.534</td>\n",
       "      <td>0.025</td>\n",
       "      <td>-0.423</td>\n",
       "      <td>1</td>\n",
       "    </tr>\n",
       "    <tr>\n",
       "      <th>1</th>\n",
       "      <td>10577</td>\n",
       "      <td>2023</td>\n",
       "      <td>0.559</td>\n",
       "      <td>0.228</td>\n",
       "      <td>-0.795</td>\n",
       "      <td>-0.170</td>\n",
       "      <td>0</td>\n",
       "    </tr>\n",
       "    <tr>\n",
       "      <th>2</th>\n",
       "      <td>5548</td>\n",
       "      <td>2023</td>\n",
       "      <td>0.356</td>\n",
       "      <td>0.103</td>\n",
       "      <td>0.350</td>\n",
       "      <td>0.048</td>\n",
       "      <td>1</td>\n",
       "    </tr>\n",
       "    <tr>\n",
       "      <th>3</th>\n",
       "      <td>6015</td>\n",
       "      <td>2023</td>\n",
       "      <td>0.406</td>\n",
       "      <td>0.094</td>\n",
       "      <td>-0.539</td>\n",
       "      <td>-0.285</td>\n",
       "      <td>1</td>\n",
       "    </tr>\n",
       "    <tr>\n",
       "      <th>4</th>\n",
       "      <td>10372</td>\n",
       "      <td>2023</td>\n",
       "      <td>0.355</td>\n",
       "      <td>0.106</td>\n",
       "      <td>0.099</td>\n",
       "      <td>0.024</td>\n",
       "      <td>1</td>\n",
       "    </tr>\n",
       "  </tbody>\n",
       "</table>\n",
       "</div>"
      ],
      "text/plain": [
       "   player id  season  sg_putt  sg_arg  sg_app  sg_ott  preds\n",
       "0         16    2023    0.351   0.534   0.025  -0.423      1\n",
       "1      10577    2023    0.559   0.228  -0.795  -0.170      0\n",
       "2       5548    2023    0.356   0.103   0.350   0.048      1\n",
       "3       6015    2023    0.406   0.094  -0.539  -0.285      1\n",
       "4      10372    2023    0.355   0.106   0.099   0.024      1"
      ]
     },
     "execution_count": 68,
     "metadata": {},
     "output_type": "execute_result"
    }
   ],
   "source": [
    "test.head()"
   ]
  },
  {
   "cell_type": "code",
   "execution_count": 69,
   "id": "36b8083f",
   "metadata": {},
   "outputs": [],
   "source": [
    "# match with player names to see who we will predict will make the cut\n",
    "\n",
    "ids= pd.read_csv(\"us_open_ids.csv\")"
   ]
  },
  {
   "cell_type": "code",
   "execution_count": 70,
   "id": "92d5c2f9",
   "metadata": {},
   "outputs": [
    {
     "data": {
      "text/html": [
       "<div>\n",
       "<style scoped>\n",
       "    .dataframe tbody tr th:only-of-type {\n",
       "        vertical-align: middle;\n",
       "    }\n",
       "\n",
       "    .dataframe tbody tr th {\n",
       "        vertical-align: top;\n",
       "    }\n",
       "\n",
       "    .dataframe thead th {\n",
       "        text-align: right;\n",
       "    }\n",
       "</style>\n",
       "<table border=\"1\" class=\"dataframe\">\n",
       "  <thead>\n",
       "    <tr style=\"text-align: right;\">\n",
       "      <th></th>\n",
       "      <th>player</th>\n",
       "      <th>player id</th>\n",
       "    </tr>\n",
       "  </thead>\n",
       "  <tbody>\n",
       "    <tr>\n",
       "      <th>0</th>\n",
       "      <td>Adam Hadwin</td>\n",
       "      <td>5548</td>\n",
       "    </tr>\n",
       "    <tr>\n",
       "      <th>1</th>\n",
       "      <td>Alexander Noren</td>\n",
       "      <td>3832</td>\n",
       "    </tr>\n",
       "    <tr>\n",
       "      <th>2</th>\n",
       "      <td>Andrew Putnam</td>\n",
       "      <td>5502</td>\n",
       "    </tr>\n",
       "    <tr>\n",
       "      <th>3</th>\n",
       "      <td>Adam Schenk</td>\n",
       "      <td>10372</td>\n",
       "    </tr>\n",
       "    <tr>\n",
       "      <th>4</th>\n",
       "      <td>Adam Scott</td>\n",
       "      <td>388</td>\n",
       "    </tr>\n",
       "  </tbody>\n",
       "</table>\n",
       "</div>"
      ],
      "text/plain": [
       "            player  player id\n",
       "0      Adam Hadwin       5548\n",
       "1  Alexander Noren       3832\n",
       "2    Andrew Putnam       5502\n",
       "3      Adam Schenk      10372\n",
       "4       Adam Scott        388"
      ]
     },
     "execution_count": 70,
     "metadata": {},
     "output_type": "execute_result"
    }
   ],
   "source": [
    "ids.head()"
   ]
  },
  {
   "cell_type": "markdown",
   "id": "094b860e",
   "metadata": {},
   "source": [
    "the merged data set below shows who we predict will and won't make the cut. e.g. aaron wise (not even sure if he is playing!) and webb simpson will not make the cut.but adam hadwin, xander and zach johnson are predicted *to* make the cut"
   ]
  },
  {
   "cell_type": "code",
   "execution_count": 71,
   "id": "0f5579d4",
   "metadata": {},
   "outputs": [
    {
     "data": {
      "text/html": [
       "<div>\n",
       "<style scoped>\n",
       "    .dataframe tbody tr th:only-of-type {\n",
       "        vertical-align: middle;\n",
       "    }\n",
       "\n",
       "    .dataframe tbody tr th {\n",
       "        vertical-align: top;\n",
       "    }\n",
       "\n",
       "    .dataframe thead th {\n",
       "        text-align: right;\n",
       "    }\n",
       "</style>\n",
       "<table border=\"1\" class=\"dataframe\">\n",
       "  <thead>\n",
       "    <tr style=\"text-align: right;\">\n",
       "      <th></th>\n",
       "      <th>player id</th>\n",
       "      <th>season</th>\n",
       "      <th>sg_putt</th>\n",
       "      <th>sg_arg</th>\n",
       "      <th>sg_app</th>\n",
       "      <th>sg_ott</th>\n",
       "      <th>preds</th>\n",
       "      <th>player</th>\n",
       "    </tr>\n",
       "  </thead>\n",
       "  <tbody>\n",
       "    <tr>\n",
       "      <th>0</th>\n",
       "      <td>16</td>\n",
       "      <td>2023</td>\n",
       "      <td>0.351</td>\n",
       "      <td>0.534</td>\n",
       "      <td>0.025</td>\n",
       "      <td>-0.423</td>\n",
       "      <td>1</td>\n",
       "      <td>Aaron Baddeley</td>\n",
       "    </tr>\n",
       "    <tr>\n",
       "      <th>1</th>\n",
       "      <td>10577</td>\n",
       "      <td>2023</td>\n",
       "      <td>0.559</td>\n",
       "      <td>0.228</td>\n",
       "      <td>-0.795</td>\n",
       "      <td>-0.170</td>\n",
       "      <td>0</td>\n",
       "      <td>Aaron Wise</td>\n",
       "    </tr>\n",
       "    <tr>\n",
       "      <th>2</th>\n",
       "      <td>5548</td>\n",
       "      <td>2023</td>\n",
       "      <td>0.356</td>\n",
       "      <td>0.103</td>\n",
       "      <td>0.350</td>\n",
       "      <td>0.048</td>\n",
       "      <td>1</td>\n",
       "      <td>Adam Hadwin</td>\n",
       "    </tr>\n",
       "    <tr>\n",
       "      <th>3</th>\n",
       "      <td>6015</td>\n",
       "      <td>2023</td>\n",
       "      <td>0.406</td>\n",
       "      <td>0.094</td>\n",
       "      <td>-0.539</td>\n",
       "      <td>-0.285</td>\n",
       "      <td>1</td>\n",
       "      <td>Adam Long</td>\n",
       "    </tr>\n",
       "    <tr>\n",
       "      <th>4</th>\n",
       "      <td>10372</td>\n",
       "      <td>2023</td>\n",
       "      <td>0.355</td>\n",
       "      <td>0.106</td>\n",
       "      <td>0.099</td>\n",
       "      <td>0.024</td>\n",
       "      <td>1</td>\n",
       "      <td>Adam Schenk</td>\n",
       "    </tr>\n",
       "    <tr>\n",
       "      <th>...</th>\n",
       "      <td>...</td>\n",
       "      <td>...</td>\n",
       "      <td>...</td>\n",
       "      <td>...</td>\n",
       "      <td>...</td>\n",
       "      <td>...</td>\n",
       "      <td>...</td>\n",
       "      <td>...</td>\n",
       "    </tr>\n",
       "    <tr>\n",
       "      <th>116</th>\n",
       "      <td>1614</td>\n",
       "      <td>2023</td>\n",
       "      <td>-0.162</td>\n",
       "      <td>-0.207</td>\n",
       "      <td>0.193</td>\n",
       "      <td>-0.405</td>\n",
       "      <td>0</td>\n",
       "      <td>Webb Simpson</td>\n",
       "    </tr>\n",
       "    <tr>\n",
       "      <th>117</th>\n",
       "      <td>11119</td>\n",
       "      <td>2023</td>\n",
       "      <td>0.292</td>\n",
       "      <td>0.147</td>\n",
       "      <td>0.548</td>\n",
       "      <td>0.231</td>\n",
       "      <td>1</td>\n",
       "      <td>Wyndham Clark</td>\n",
       "    </tr>\n",
       "    <tr>\n",
       "      <th>118</th>\n",
       "      <td>10140</td>\n",
       "      <td>2023</td>\n",
       "      <td>0.577</td>\n",
       "      <td>0.148</td>\n",
       "      <td>0.888</td>\n",
       "      <td>0.338</td>\n",
       "      <td>1</td>\n",
       "      <td>Xander Schauffele</td>\n",
       "    </tr>\n",
       "    <tr>\n",
       "      <th>119</th>\n",
       "      <td>9040</td>\n",
       "      <td>2023</td>\n",
       "      <td>-0.092</td>\n",
       "      <td>0.319</td>\n",
       "      <td>-0.102</td>\n",
       "      <td>-0.394</td>\n",
       "      <td>1</td>\n",
       "      <td>Zac Blair</td>\n",
       "    </tr>\n",
       "    <tr>\n",
       "      <th>120</th>\n",
       "      <td>686</td>\n",
       "      <td>2023</td>\n",
       "      <td>0.029</td>\n",
       "      <td>-0.106</td>\n",
       "      <td>-0.330</td>\n",
       "      <td>-0.145</td>\n",
       "      <td>1</td>\n",
       "      <td>Zach Johnson</td>\n",
       "    </tr>\n",
       "  </tbody>\n",
       "</table>\n",
       "<p>121 rows × 8 columns</p>\n",
       "</div>"
      ],
      "text/plain": [
       "     player id  season  sg_putt  sg_arg  sg_app  sg_ott  preds  \\\n",
       "0           16    2023    0.351   0.534   0.025  -0.423      1   \n",
       "1        10577    2023    0.559   0.228  -0.795  -0.170      0   \n",
       "2         5548    2023    0.356   0.103   0.350   0.048      1   \n",
       "3         6015    2023    0.406   0.094  -0.539  -0.285      1   \n",
       "4        10372    2023    0.355   0.106   0.099   0.024      1   \n",
       "..         ...     ...      ...     ...     ...     ...    ...   \n",
       "116       1614    2023   -0.162  -0.207   0.193  -0.405      0   \n",
       "117      11119    2023    0.292   0.147   0.548   0.231      1   \n",
       "118      10140    2023    0.577   0.148   0.888   0.338      1   \n",
       "119       9040    2023   -0.092   0.319  -0.102  -0.394      1   \n",
       "120        686    2023    0.029  -0.106  -0.330  -0.145      1   \n",
       "\n",
       "                player  \n",
       "0       Aaron Baddeley  \n",
       "1           Aaron Wise  \n",
       "2          Adam Hadwin  \n",
       "3            Adam Long  \n",
       "4          Adam Schenk  \n",
       "..                 ...  \n",
       "116       Webb Simpson  \n",
       "117      Wyndham Clark  \n",
       "118  Xander Schauffele  \n",
       "119          Zac Blair  \n",
       "120       Zach Johnson  \n",
       "\n",
       "[121 rows x 8 columns]"
      ]
     },
     "execution_count": 71,
     "metadata": {},
     "output_type": "execute_result"
    }
   ],
   "source": [
    "df = pd.merge(test, ids, on=\"player id\")\n",
    "df"
   ]
  },
  {
   "cell_type": "code",
   "execution_count": 96,
   "id": "1f8128f0",
   "metadata": {},
   "outputs": [
    {
     "data": {
      "text/plain": [
       "(121, 8)"
      ]
     },
     "execution_count": 96,
     "metadata": {},
     "output_type": "execute_result"
    }
   ],
   "source": [
    "df.shape"
   ]
  },
  {
   "cell_type": "code",
   "execution_count": 97,
   "id": "257359bf",
   "metadata": {},
   "outputs": [
    {
     "data": {
      "text/plain": [
       "(121, 7)"
      ]
     },
     "execution_count": 97,
     "metadata": {},
     "output_type": "execute_result"
    }
   ],
   "source": [
    "test.shape # makeing sure we made predictions on all 121 people"
   ]
  },
  {
   "cell_type": "code",
   "execution_count": 73,
   "id": "7ef79f33",
   "metadata": {},
   "outputs": [],
   "source": [
    "cut_preds = df.filter(['player', 'preds'], axis=1)"
   ]
  },
  {
   "cell_type": "code",
   "execution_count": 76,
   "id": "feee7602",
   "metadata": {},
   "outputs": [
    {
     "name": "stdout",
     "output_type": "stream",
     "text": [
      "/Users/claire/Desktop/usopen\r\n"
     ]
    }
   ],
   "source": [
    "cut_preds\n",
    "!pwd\n",
    "cut_preds.to_csv('sklearn_cut_predictions.csv') "
   ]
  },
  {
   "cell_type": "markdown",
   "id": "4daa6a56",
   "metadata": {},
   "source": [
    "## linear regression: who finishes where?"
   ]
  },
  {
   "cell_type": "code",
   "execution_count": 77,
   "id": "4282518c",
   "metadata": {},
   "outputs": [],
   "source": [
    "train= pd.read_csv(\"usopen_regression_train.csv\")"
   ]
  },
  {
   "cell_type": "code",
   "execution_count": 78,
   "id": "68a03736",
   "metadata": {},
   "outputs": [
    {
     "data": {
      "text/html": [
       "<div>\n",
       "<style scoped>\n",
       "    .dataframe tbody tr th:only-of-type {\n",
       "        vertical-align: middle;\n",
       "    }\n",
       "\n",
       "    .dataframe tbody tr th {\n",
       "        vertical-align: top;\n",
       "    }\n",
       "\n",
       "    .dataframe thead th {\n",
       "        text-align: right;\n",
       "    }\n",
       "</style>\n",
       "<table border=\"1\" class=\"dataframe\">\n",
       "  <thead>\n",
       "    <tr style=\"text-align: right;\">\n",
       "      <th></th>\n",
       "      <th>player id</th>\n",
       "      <th>season</th>\n",
       "      <th>sg_putt</th>\n",
       "      <th>sg_arg</th>\n",
       "      <th>sg_app</th>\n",
       "      <th>sg_ott</th>\n",
       "      <th>finish2</th>\n",
       "    </tr>\n",
       "  </thead>\n",
       "  <tbody>\n",
       "    <tr>\n",
       "      <th>0</th>\n",
       "      <td>5548</td>\n",
       "      <td>2022</td>\n",
       "      <td>1.30</td>\n",
       "      <td>0.80</td>\n",
       "      <td>0.54</td>\n",
       "      <td>0.21</td>\n",
       "      <td>7</td>\n",
       "    </tr>\n",
       "    <tr>\n",
       "      <th>1</th>\n",
       "      <td>3832</td>\n",
       "      <td>2022</td>\n",
       "      <td>-1.42</td>\n",
       "      <td>0.73</td>\n",
       "      <td>0.87</td>\n",
       "      <td>-0.81</td>\n",
       "      <td>78</td>\n",
       "    </tr>\n",
       "    <tr>\n",
       "      <th>2</th>\n",
       "      <td>5502</td>\n",
       "      <td>2022</td>\n",
       "      <td>1.43</td>\n",
       "      <td>0.60</td>\n",
       "      <td>-0.48</td>\n",
       "      <td>-0.45</td>\n",
       "      <td>31</td>\n",
       "    </tr>\n",
       "    <tr>\n",
       "      <th>3</th>\n",
       "      <td>10372</td>\n",
       "      <td>2022</td>\n",
       "      <td>0.66</td>\n",
       "      <td>0.65</td>\n",
       "      <td>0.14</td>\n",
       "      <td>0.14</td>\n",
       "      <td>24</td>\n",
       "    </tr>\n",
       "    <tr>\n",
       "      <th>4</th>\n",
       "      <td>388</td>\n",
       "      <td>2022</td>\n",
       "      <td>0.54</td>\n",
       "      <td>0.79</td>\n",
       "      <td>1.20</td>\n",
       "      <td>-0.43</td>\n",
       "      <td>14</td>\n",
       "    </tr>\n",
       "  </tbody>\n",
       "</table>\n",
       "</div>"
      ],
      "text/plain": [
       "   player id  season  sg_putt  sg_arg  sg_app  sg_ott  finish2\n",
       "0       5548    2022     1.30    0.80    0.54    0.21        7\n",
       "1       3832    2022    -1.42    0.73    0.87   -0.81       78\n",
       "2       5502    2022     1.43    0.60   -0.48   -0.45       31\n",
       "3      10372    2022     0.66    0.65    0.14    0.14       24\n",
       "4        388    2022     0.54    0.79    1.20   -0.43       14"
      ]
     },
     "execution_count": 78,
     "metadata": {},
     "output_type": "execute_result"
    }
   ],
   "source": [
    "train.head()"
   ]
  },
  {
   "cell_type": "markdown",
   "id": "8b8e6b08",
   "metadata": {},
   "source": [
    "#### random forest regressor \n",
    "here we are going to try random forest regressor. this model is similar to random forest classifier (using decision trees) but now we are predicting linear values, not just binary"
   ]
  },
  {
   "cell_type": "code",
   "execution_count": 86,
   "id": "57634a46",
   "metadata": {},
   "outputs": [
    {
     "data": {
      "text/html": [
       "<style>#sk-container-id-11 {color: black;background-color: white;}#sk-container-id-11 pre{padding: 0;}#sk-container-id-11 div.sk-toggleable {background-color: white;}#sk-container-id-11 label.sk-toggleable__label {cursor: pointer;display: block;width: 100%;margin-bottom: 0;padding: 0.3em;box-sizing: border-box;text-align: center;}#sk-container-id-11 label.sk-toggleable__label-arrow:before {content: \"▸\";float: left;margin-right: 0.25em;color: #696969;}#sk-container-id-11 label.sk-toggleable__label-arrow:hover:before {color: black;}#sk-container-id-11 div.sk-estimator:hover label.sk-toggleable__label-arrow:before {color: black;}#sk-container-id-11 div.sk-toggleable__content {max-height: 0;max-width: 0;overflow: hidden;text-align: left;background-color: #f0f8ff;}#sk-container-id-11 div.sk-toggleable__content pre {margin: 0.2em;color: black;border-radius: 0.25em;background-color: #f0f8ff;}#sk-container-id-11 input.sk-toggleable__control:checked~div.sk-toggleable__content {max-height: 200px;max-width: 100%;overflow: auto;}#sk-container-id-11 input.sk-toggleable__control:checked~label.sk-toggleable__label-arrow:before {content: \"▾\";}#sk-container-id-11 div.sk-estimator input.sk-toggleable__control:checked~label.sk-toggleable__label {background-color: #d4ebff;}#sk-container-id-11 div.sk-label input.sk-toggleable__control:checked~label.sk-toggleable__label {background-color: #d4ebff;}#sk-container-id-11 input.sk-hidden--visually {border: 0;clip: rect(1px 1px 1px 1px);clip: rect(1px, 1px, 1px, 1px);height: 1px;margin: -1px;overflow: hidden;padding: 0;position: absolute;width: 1px;}#sk-container-id-11 div.sk-estimator {font-family: monospace;background-color: #f0f8ff;border: 1px dotted black;border-radius: 0.25em;box-sizing: border-box;margin-bottom: 0.5em;}#sk-container-id-11 div.sk-estimator:hover {background-color: #d4ebff;}#sk-container-id-11 div.sk-parallel-item::after {content: \"\";width: 100%;border-bottom: 1px solid gray;flex-grow: 1;}#sk-container-id-11 div.sk-label:hover label.sk-toggleable__label {background-color: #d4ebff;}#sk-container-id-11 div.sk-serial::before {content: \"\";position: absolute;border-left: 1px solid gray;box-sizing: border-box;top: 0;bottom: 0;left: 50%;z-index: 0;}#sk-container-id-11 div.sk-serial {display: flex;flex-direction: column;align-items: center;background-color: white;padding-right: 0.2em;padding-left: 0.2em;position: relative;}#sk-container-id-11 div.sk-item {position: relative;z-index: 1;}#sk-container-id-11 div.sk-parallel {display: flex;align-items: stretch;justify-content: center;background-color: white;position: relative;}#sk-container-id-11 div.sk-item::before, #sk-container-id-11 div.sk-parallel-item::before {content: \"\";position: absolute;border-left: 1px solid gray;box-sizing: border-box;top: 0;bottom: 0;left: 50%;z-index: -1;}#sk-container-id-11 div.sk-parallel-item {display: flex;flex-direction: column;z-index: 1;position: relative;background-color: white;}#sk-container-id-11 div.sk-parallel-item:first-child::after {align-self: flex-end;width: 50%;}#sk-container-id-11 div.sk-parallel-item:last-child::after {align-self: flex-start;width: 50%;}#sk-container-id-11 div.sk-parallel-item:only-child::after {width: 0;}#sk-container-id-11 div.sk-dashed-wrapped {border: 1px dashed gray;margin: 0 0.4em 0.5em 0.4em;box-sizing: border-box;padding-bottom: 0.4em;background-color: white;}#sk-container-id-11 div.sk-label label {font-family: monospace;font-weight: bold;display: inline-block;line-height: 1.2em;}#sk-container-id-11 div.sk-label-container {text-align: center;}#sk-container-id-11 div.sk-container {/* jupyter's `normalize.less` sets `[hidden] { display: none; }` but bootstrap.min.css set `[hidden] { display: none !important; }` so we also need the `!important` here to be able to override the default hidden behavior on the sphinx rendered scikit-learn.org. See: https://github.com/scikit-learn/scikit-learn/issues/21755 */display: inline-block !important;position: relative;}#sk-container-id-11 div.sk-text-repr-fallback {display: none;}</style><div id=\"sk-container-id-11\" class=\"sk-top-container\"><div class=\"sk-text-repr-fallback\"><pre>RandomForestRegressor(n_jobs=-1, random_state=22)</pre><b>In a Jupyter environment, please rerun this cell to show the HTML representation or trust the notebook. <br />On GitHub, the HTML representation is unable to render, please try loading this page with nbviewer.org.</b></div><div class=\"sk-container\" hidden><div class=\"sk-item\"><div class=\"sk-estimator sk-toggleable\"><input class=\"sk-toggleable__control sk-hidden--visually\" id=\"sk-estimator-id-25\" type=\"checkbox\" checked><label for=\"sk-estimator-id-25\" class=\"sk-toggleable__label sk-toggleable__label-arrow\">RandomForestRegressor</label><div class=\"sk-toggleable__content\"><pre>RandomForestRegressor(n_jobs=-1, random_state=22)</pre></div></div></div></div></div>"
      ],
      "text/plain": [
       "RandomForestRegressor(n_jobs=-1, random_state=22)"
      ]
     },
     "execution_count": 86,
     "metadata": {},
     "output_type": "execute_result"
    }
   ],
   "source": [
    "# call model\n",
    "\n",
    "from sklearn.ensemble import RandomForestRegressor\n",
    "\n",
    "model= RandomForestRegressor(n_jobs=-1,\n",
    "                            random_state=22)\n",
    "\n",
    "\n",
    "# fit\n",
    "\n",
    "model.fit(train.drop(\"finish2\", axis=1), train.finish2)"
   ]
  },
  {
   "cell_type": "code",
   "execution_count": 87,
   "id": "5b0eb34a",
   "metadata": {},
   "outputs": [
    {
     "data": {
      "text/plain": [
       "0.9705625898908892"
      ]
     },
     "execution_count": 87,
     "metadata": {},
     "output_type": "execute_result"
    }
   ],
   "source": [
    "model.score(train.drop(\"finish2\", axis=1), train.finish2)"
   ]
  },
  {
   "cell_type": "markdown",
   "id": "30cdf731",
   "metadata": {},
   "source": [
    "our model predicts finish based on only on the training data with an R2 of 97%! that's pretty high"
   ]
  },
  {
   "cell_type": "code",
   "execution_count": 88,
   "id": "59aea011",
   "metadata": {},
   "outputs": [],
   "source": [
    "# split training data into x and y\n",
    "\n",
    "x_train, y_train= train.drop(\"finish2\", axis=1), train.finish2"
   ]
  },
  {
   "cell_type": "code",
   "execution_count": 89,
   "id": "fbd79a37",
   "metadata": {},
   "outputs": [
    {
     "data": {
      "text/plain": [
       "((478, 6), (478,))"
      ]
     },
     "execution_count": 89,
     "metadata": {},
     "output_type": "execute_result"
    }
   ],
   "source": [
    "x_train.shape, y_train.shape"
   ]
  },
  {
   "cell_type": "markdown",
   "id": "002aa96a",
   "metadata": {},
   "source": [
    "#### search for best hyper parameters with `GridSearchCV()`"
   ]
  },
  {
   "cell_type": "code",
   "execution_count": 94,
   "id": "59909caf",
   "metadata": {},
   "outputs": [],
   "source": [
    "rf_grid = {\n",
    "    'bootstrap': [True],\n",
    "    'max_depth': [80, 90, 100, 110],\n",
    "    'max_features': [2, 3],\n",
    "    'min_samples_leaf': [3, 4, 5],\n",
    "    'min_samples_split': [8, 10, 12],\n",
    "    'n_estimators': [100,150,278]\n",
    "}\n",
    "\n",
    "gs_rf = GridSearchCV(estimator = RandomForestRegressor(), param_grid = rf_grid, \n",
    "                          cv = 3, n_jobs = -1, verbose = 2)\n",
    "\n",
    "# fit"
   ]
  },
  {
   "cell_type": "code",
   "execution_count": 95,
   "id": "b4727a5c",
   "metadata": {},
   "outputs": [
    {
     "data": {
      "text/html": [
       "<style>#sk-container-id-13 {color: black;background-color: white;}#sk-container-id-13 pre{padding: 0;}#sk-container-id-13 div.sk-toggleable {background-color: white;}#sk-container-id-13 label.sk-toggleable__label {cursor: pointer;display: block;width: 100%;margin-bottom: 0;padding: 0.3em;box-sizing: border-box;text-align: center;}#sk-container-id-13 label.sk-toggleable__label-arrow:before {content: \"▸\";float: left;margin-right: 0.25em;color: #696969;}#sk-container-id-13 label.sk-toggleable__label-arrow:hover:before {color: black;}#sk-container-id-13 div.sk-estimator:hover label.sk-toggleable__label-arrow:before {color: black;}#sk-container-id-13 div.sk-toggleable__content {max-height: 0;max-width: 0;overflow: hidden;text-align: left;background-color: #f0f8ff;}#sk-container-id-13 div.sk-toggleable__content pre {margin: 0.2em;color: black;border-radius: 0.25em;background-color: #f0f8ff;}#sk-container-id-13 input.sk-toggleable__control:checked~div.sk-toggleable__content {max-height: 200px;max-width: 100%;overflow: auto;}#sk-container-id-13 input.sk-toggleable__control:checked~label.sk-toggleable__label-arrow:before {content: \"▾\";}#sk-container-id-13 div.sk-estimator input.sk-toggleable__control:checked~label.sk-toggleable__label {background-color: #d4ebff;}#sk-container-id-13 div.sk-label input.sk-toggleable__control:checked~label.sk-toggleable__label {background-color: #d4ebff;}#sk-container-id-13 input.sk-hidden--visually {border: 0;clip: rect(1px 1px 1px 1px);clip: rect(1px, 1px, 1px, 1px);height: 1px;margin: -1px;overflow: hidden;padding: 0;position: absolute;width: 1px;}#sk-container-id-13 div.sk-estimator {font-family: monospace;background-color: #f0f8ff;border: 1px dotted black;border-radius: 0.25em;box-sizing: border-box;margin-bottom: 0.5em;}#sk-container-id-13 div.sk-estimator:hover {background-color: #d4ebff;}#sk-container-id-13 div.sk-parallel-item::after {content: \"\";width: 100%;border-bottom: 1px solid gray;flex-grow: 1;}#sk-container-id-13 div.sk-label:hover label.sk-toggleable__label {background-color: #d4ebff;}#sk-container-id-13 div.sk-serial::before {content: \"\";position: absolute;border-left: 1px solid gray;box-sizing: border-box;top: 0;bottom: 0;left: 50%;z-index: 0;}#sk-container-id-13 div.sk-serial {display: flex;flex-direction: column;align-items: center;background-color: white;padding-right: 0.2em;padding-left: 0.2em;position: relative;}#sk-container-id-13 div.sk-item {position: relative;z-index: 1;}#sk-container-id-13 div.sk-parallel {display: flex;align-items: stretch;justify-content: center;background-color: white;position: relative;}#sk-container-id-13 div.sk-item::before, #sk-container-id-13 div.sk-parallel-item::before {content: \"\";position: absolute;border-left: 1px solid gray;box-sizing: border-box;top: 0;bottom: 0;left: 50%;z-index: -1;}#sk-container-id-13 div.sk-parallel-item {display: flex;flex-direction: column;z-index: 1;position: relative;background-color: white;}#sk-container-id-13 div.sk-parallel-item:first-child::after {align-self: flex-end;width: 50%;}#sk-container-id-13 div.sk-parallel-item:last-child::after {align-self: flex-start;width: 50%;}#sk-container-id-13 div.sk-parallel-item:only-child::after {width: 0;}#sk-container-id-13 div.sk-dashed-wrapped {border: 1px dashed gray;margin: 0 0.4em 0.5em 0.4em;box-sizing: border-box;padding-bottom: 0.4em;background-color: white;}#sk-container-id-13 div.sk-label label {font-family: monospace;font-weight: bold;display: inline-block;line-height: 1.2em;}#sk-container-id-13 div.sk-label-container {text-align: center;}#sk-container-id-13 div.sk-container {/* jupyter's `normalize.less` sets `[hidden] { display: none; }` but bootstrap.min.css set `[hidden] { display: none !important; }` so we also need the `!important` here to be able to override the default hidden behavior on the sphinx rendered scikit-learn.org. See: https://github.com/scikit-learn/scikit-learn/issues/21755 */display: inline-block !important;position: relative;}#sk-container-id-13 div.sk-text-repr-fallback {display: none;}</style><div id=\"sk-container-id-13\" class=\"sk-top-container\"><div class=\"sk-text-repr-fallback\"><pre>GridSearchCV(cv=3, estimator=RandomForestRegressor(), n_jobs=-1,\n",
       "             param_grid={&#x27;bootstrap&#x27;: [True], &#x27;max_depth&#x27;: [80, 90, 100, 110],\n",
       "                         &#x27;max_features&#x27;: [2, 3], &#x27;min_samples_leaf&#x27;: [3, 4, 5],\n",
       "                         &#x27;min_samples_split&#x27;: [8, 10, 12],\n",
       "                         &#x27;n_estimators&#x27;: [100, 150, 278]},\n",
       "             verbose=2)</pre><b>In a Jupyter environment, please rerun this cell to show the HTML representation or trust the notebook. <br />On GitHub, the HTML representation is unable to render, please try loading this page with nbviewer.org.</b></div><div class=\"sk-container\" hidden><div class=\"sk-item sk-dashed-wrapped\"><div class=\"sk-label-container\"><div class=\"sk-label sk-toggleable\"><input class=\"sk-toggleable__control sk-hidden--visually\" id=\"sk-estimator-id-29\" type=\"checkbox\" ><label for=\"sk-estimator-id-29\" class=\"sk-toggleable__label sk-toggleable__label-arrow\">GridSearchCV</label><div class=\"sk-toggleable__content\"><pre>GridSearchCV(cv=3, estimator=RandomForestRegressor(), n_jobs=-1,\n",
       "             param_grid={&#x27;bootstrap&#x27;: [True], &#x27;max_depth&#x27;: [80, 90, 100, 110],\n",
       "                         &#x27;max_features&#x27;: [2, 3], &#x27;min_samples_leaf&#x27;: [3, 4, 5],\n",
       "                         &#x27;min_samples_split&#x27;: [8, 10, 12],\n",
       "                         &#x27;n_estimators&#x27;: [100, 150, 278]},\n",
       "             verbose=2)</pre></div></div></div><div class=\"sk-parallel\"><div class=\"sk-parallel-item\"><div class=\"sk-item\"><div class=\"sk-label-container\"><div class=\"sk-label sk-toggleable\"><input class=\"sk-toggleable__control sk-hidden--visually\" id=\"sk-estimator-id-30\" type=\"checkbox\" ><label for=\"sk-estimator-id-30\" class=\"sk-toggleable__label sk-toggleable__label-arrow\">estimator: RandomForestRegressor</label><div class=\"sk-toggleable__content\"><pre>RandomForestRegressor()</pre></div></div></div><div class=\"sk-serial\"><div class=\"sk-item\"><div class=\"sk-estimator sk-toggleable\"><input class=\"sk-toggleable__control sk-hidden--visually\" id=\"sk-estimator-id-31\" type=\"checkbox\" ><label for=\"sk-estimator-id-31\" class=\"sk-toggleable__label sk-toggleable__label-arrow\">RandomForestRegressor</label><div class=\"sk-toggleable__content\"><pre>RandomForestRegressor()</pre></div></div></div></div></div></div></div></div></div></div>"
      ],
      "text/plain": [
       "GridSearchCV(cv=3, estimator=RandomForestRegressor(), n_jobs=-1,\n",
       "             param_grid={'bootstrap': [True], 'max_depth': [80, 90, 100, 110],\n",
       "                         'max_features': [2, 3], 'min_samples_leaf': [3, 4, 5],\n",
       "                         'min_samples_split': [8, 10, 12],\n",
       "                         'n_estimators': [100, 150, 278]},\n",
       "             verbose=2)"
      ]
     },
     "execution_count": 95,
     "metadata": {},
     "output_type": "execute_result"
    }
   ],
   "source": [
    "%%capture --no-display\n",
    "gs_rf.fit(x_train,y_train)"
   ]
  },
  {
   "cell_type": "code",
   "execution_count": 96,
   "id": "5ece9243",
   "metadata": {},
   "outputs": [
    {
     "data": {
      "text/plain": [
       "0.9191868008359544"
      ]
     },
     "execution_count": 96,
     "metadata": {},
     "output_type": "execute_result"
    }
   ],
   "source": [
    "gs_rf.score(x_train,y_train) ## 92%! pretty good R2"
   ]
  },
  {
   "cell_type": "code",
   "execution_count": 97,
   "id": "ada64061",
   "metadata": {},
   "outputs": [
    {
     "data": {
      "text/plain": [
       "{'bootstrap': True,\n",
       " 'max_depth': 90,\n",
       " 'max_features': 3,\n",
       " 'min_samples_leaf': 3,\n",
       " 'min_samples_split': 8,\n",
       " 'n_estimators': 278}"
      ]
     },
     "execution_count": 97,
     "metadata": {},
     "output_type": "execute_result"
    }
   ],
   "source": [
    "gs_rf.best_params_"
   ]
  },
  {
   "cell_type": "markdown",
   "id": "b1c36321",
   "metadata": {},
   "source": [
    "#### now we can create a model with the best parameters from `gridsearchCV()`"
   ]
  },
  {
   "cell_type": "code",
   "execution_count": 98,
   "id": "d3b741ee",
   "metadata": {},
   "outputs": [],
   "source": [
    "rf_model = RandomForestRegressor(n_estimators=278,\n",
    "                                   min_samples_leaf=3,\n",
    "                                   min_samples_split=8,\n",
    "                                   max_features=3,\n",
    "                                   max_depth=90,\n",
    "                                   n_jobs=-1,\n",
    "                                   random_state=22,\n",
    "                                   bootstrap=True)"
   ]
  },
  {
   "cell_type": "code",
   "execution_count": 99,
   "id": "6d648003",
   "metadata": {},
   "outputs": [
    {
     "data": {
      "text/html": [
       "<style>#sk-container-id-14 {color: black;background-color: white;}#sk-container-id-14 pre{padding: 0;}#sk-container-id-14 div.sk-toggleable {background-color: white;}#sk-container-id-14 label.sk-toggleable__label {cursor: pointer;display: block;width: 100%;margin-bottom: 0;padding: 0.3em;box-sizing: border-box;text-align: center;}#sk-container-id-14 label.sk-toggleable__label-arrow:before {content: \"▸\";float: left;margin-right: 0.25em;color: #696969;}#sk-container-id-14 label.sk-toggleable__label-arrow:hover:before {color: black;}#sk-container-id-14 div.sk-estimator:hover label.sk-toggleable__label-arrow:before {color: black;}#sk-container-id-14 div.sk-toggleable__content {max-height: 0;max-width: 0;overflow: hidden;text-align: left;background-color: #f0f8ff;}#sk-container-id-14 div.sk-toggleable__content pre {margin: 0.2em;color: black;border-radius: 0.25em;background-color: #f0f8ff;}#sk-container-id-14 input.sk-toggleable__control:checked~div.sk-toggleable__content {max-height: 200px;max-width: 100%;overflow: auto;}#sk-container-id-14 input.sk-toggleable__control:checked~label.sk-toggleable__label-arrow:before {content: \"▾\";}#sk-container-id-14 div.sk-estimator input.sk-toggleable__control:checked~label.sk-toggleable__label {background-color: #d4ebff;}#sk-container-id-14 div.sk-label input.sk-toggleable__control:checked~label.sk-toggleable__label {background-color: #d4ebff;}#sk-container-id-14 input.sk-hidden--visually {border: 0;clip: rect(1px 1px 1px 1px);clip: rect(1px, 1px, 1px, 1px);height: 1px;margin: -1px;overflow: hidden;padding: 0;position: absolute;width: 1px;}#sk-container-id-14 div.sk-estimator {font-family: monospace;background-color: #f0f8ff;border: 1px dotted black;border-radius: 0.25em;box-sizing: border-box;margin-bottom: 0.5em;}#sk-container-id-14 div.sk-estimator:hover {background-color: #d4ebff;}#sk-container-id-14 div.sk-parallel-item::after {content: \"\";width: 100%;border-bottom: 1px solid gray;flex-grow: 1;}#sk-container-id-14 div.sk-label:hover label.sk-toggleable__label {background-color: #d4ebff;}#sk-container-id-14 div.sk-serial::before {content: \"\";position: absolute;border-left: 1px solid gray;box-sizing: border-box;top: 0;bottom: 0;left: 50%;z-index: 0;}#sk-container-id-14 div.sk-serial {display: flex;flex-direction: column;align-items: center;background-color: white;padding-right: 0.2em;padding-left: 0.2em;position: relative;}#sk-container-id-14 div.sk-item {position: relative;z-index: 1;}#sk-container-id-14 div.sk-parallel {display: flex;align-items: stretch;justify-content: center;background-color: white;position: relative;}#sk-container-id-14 div.sk-item::before, #sk-container-id-14 div.sk-parallel-item::before {content: \"\";position: absolute;border-left: 1px solid gray;box-sizing: border-box;top: 0;bottom: 0;left: 50%;z-index: -1;}#sk-container-id-14 div.sk-parallel-item {display: flex;flex-direction: column;z-index: 1;position: relative;background-color: white;}#sk-container-id-14 div.sk-parallel-item:first-child::after {align-self: flex-end;width: 50%;}#sk-container-id-14 div.sk-parallel-item:last-child::after {align-self: flex-start;width: 50%;}#sk-container-id-14 div.sk-parallel-item:only-child::after {width: 0;}#sk-container-id-14 div.sk-dashed-wrapped {border: 1px dashed gray;margin: 0 0.4em 0.5em 0.4em;box-sizing: border-box;padding-bottom: 0.4em;background-color: white;}#sk-container-id-14 div.sk-label label {font-family: monospace;font-weight: bold;display: inline-block;line-height: 1.2em;}#sk-container-id-14 div.sk-label-container {text-align: center;}#sk-container-id-14 div.sk-container {/* jupyter's `normalize.less` sets `[hidden] { display: none; }` but bootstrap.min.css set `[hidden] { display: none !important; }` so we also need the `!important` here to be able to override the default hidden behavior on the sphinx rendered scikit-learn.org. See: https://github.com/scikit-learn/scikit-learn/issues/21755 */display: inline-block !important;position: relative;}#sk-container-id-14 div.sk-text-repr-fallback {display: none;}</style><div id=\"sk-container-id-14\" class=\"sk-top-container\"><div class=\"sk-text-repr-fallback\"><pre>RandomForestRegressor(max_depth=90, max_features=3, min_samples_leaf=3,\n",
       "                      min_samples_split=8, n_estimators=278, n_jobs=-1,\n",
       "                      random_state=22)</pre><b>In a Jupyter environment, please rerun this cell to show the HTML representation or trust the notebook. <br />On GitHub, the HTML representation is unable to render, please try loading this page with nbviewer.org.</b></div><div class=\"sk-container\" hidden><div class=\"sk-item\"><div class=\"sk-estimator sk-toggleable\"><input class=\"sk-toggleable__control sk-hidden--visually\" id=\"sk-estimator-id-32\" type=\"checkbox\" checked><label for=\"sk-estimator-id-32\" class=\"sk-toggleable__label sk-toggleable__label-arrow\">RandomForestRegressor</label><div class=\"sk-toggleable__content\"><pre>RandomForestRegressor(max_depth=90, max_features=3, min_samples_leaf=3,\n",
       "                      min_samples_split=8, n_estimators=278, n_jobs=-1,\n",
       "                      random_state=22)</pre></div></div></div></div></div>"
      ],
      "text/plain": [
       "RandomForestRegressor(max_depth=90, max_features=3, min_samples_leaf=3,\n",
       "                      min_samples_split=8, n_estimators=278, n_jobs=-1,\n",
       "                      random_state=22)"
      ]
     },
     "execution_count": 99,
     "metadata": {},
     "output_type": "execute_result"
    }
   ],
   "source": [
    "rf_model.fit(x_train,y_train)"
   ]
  },
  {
   "cell_type": "code",
   "execution_count": 100,
   "id": "398b2566",
   "metadata": {},
   "outputs": [
    {
     "data": {
      "text/plain": [
       "0.919241024018051"
      ]
     },
     "execution_count": 100,
     "metadata": {},
     "output_type": "execute_result"
    }
   ],
   "source": [
    "rf_model.score(x_train,y_train) # 91% same score, just confirming it"
   ]
  },
  {
   "cell_type": "markdown",
   "id": "04838d05",
   "metadata": {},
   "source": [
    "#### now, we can make predictions on the testing data\n",
    "\n",
    "or the 2023 strokes gained data"
   ]
  },
  {
   "cell_type": "code",
   "execution_count": 107,
   "id": "bb3de66f",
   "metadata": {},
   "outputs": [],
   "source": [
    "test = pd.read_csv(\"usopen_test.csv\")"
   ]
  },
  {
   "cell_type": "code",
   "execution_count": 108,
   "id": "c3c015c7",
   "metadata": {},
   "outputs": [
    {
     "data": {
      "text/html": [
       "<div>\n",
       "<style scoped>\n",
       "    .dataframe tbody tr th:only-of-type {\n",
       "        vertical-align: middle;\n",
       "    }\n",
       "\n",
       "    .dataframe tbody tr th {\n",
       "        vertical-align: top;\n",
       "    }\n",
       "\n",
       "    .dataframe thead th {\n",
       "        text-align: right;\n",
       "    }\n",
       "</style>\n",
       "<table border=\"1\" class=\"dataframe\">\n",
       "  <thead>\n",
       "    <tr style=\"text-align: right;\">\n",
       "      <th></th>\n",
       "      <th>player id</th>\n",
       "      <th>season</th>\n",
       "      <th>sg_putt</th>\n",
       "      <th>sg_arg</th>\n",
       "      <th>sg_app</th>\n",
       "      <th>sg_ott</th>\n",
       "    </tr>\n",
       "  </thead>\n",
       "  <tbody>\n",
       "    <tr>\n",
       "      <th>0</th>\n",
       "      <td>16</td>\n",
       "      <td>2023</td>\n",
       "      <td>0.351</td>\n",
       "      <td>0.534</td>\n",
       "      <td>0.025</td>\n",
       "      <td>-0.423</td>\n",
       "    </tr>\n",
       "    <tr>\n",
       "      <th>1</th>\n",
       "      <td>10577</td>\n",
       "      <td>2023</td>\n",
       "      <td>0.559</td>\n",
       "      <td>0.228</td>\n",
       "      <td>-0.795</td>\n",
       "      <td>-0.170</td>\n",
       "    </tr>\n",
       "    <tr>\n",
       "      <th>2</th>\n",
       "      <td>5548</td>\n",
       "      <td>2023</td>\n",
       "      <td>0.356</td>\n",
       "      <td>0.103</td>\n",
       "      <td>0.350</td>\n",
       "      <td>0.048</td>\n",
       "    </tr>\n",
       "    <tr>\n",
       "      <th>3</th>\n",
       "      <td>6015</td>\n",
       "      <td>2023</td>\n",
       "      <td>0.406</td>\n",
       "      <td>0.094</td>\n",
       "      <td>-0.539</td>\n",
       "      <td>-0.285</td>\n",
       "    </tr>\n",
       "    <tr>\n",
       "      <th>4</th>\n",
       "      <td>10372</td>\n",
       "      <td>2023</td>\n",
       "      <td>0.355</td>\n",
       "      <td>0.106</td>\n",
       "      <td>0.099</td>\n",
       "      <td>0.024</td>\n",
       "    </tr>\n",
       "  </tbody>\n",
       "</table>\n",
       "</div>"
      ],
      "text/plain": [
       "   player id  season  sg_putt  sg_arg  sg_app  sg_ott\n",
       "0         16    2023    0.351   0.534   0.025  -0.423\n",
       "1      10577    2023    0.559   0.228  -0.795  -0.170\n",
       "2       5548    2023    0.356   0.103   0.350   0.048\n",
       "3       6015    2023    0.406   0.094  -0.539  -0.285\n",
       "4      10372    2023    0.355   0.106   0.099   0.024"
      ]
     },
     "execution_count": 108,
     "metadata": {},
     "output_type": "execute_result"
    }
   ],
   "source": [
    "test.head()"
   ]
  },
  {
   "cell_type": "code",
   "execution_count": 109,
   "id": "49cb5479",
   "metadata": {},
   "outputs": [],
   "source": [
    "test_preds = rf_model.predict(test)"
   ]
  },
  {
   "cell_type": "code",
   "execution_count": 110,
   "id": "19c21c96",
   "metadata": {},
   "outputs": [
    {
     "data": {
      "text/html": [
       "<div>\n",
       "<style scoped>\n",
       "    .dataframe tbody tr th:only-of-type {\n",
       "        vertical-align: middle;\n",
       "    }\n",
       "\n",
       "    .dataframe tbody tr th {\n",
       "        vertical-align: top;\n",
       "    }\n",
       "\n",
       "    .dataframe thead th {\n",
       "        text-align: right;\n",
       "    }\n",
       "</style>\n",
       "<table border=\"1\" class=\"dataframe\">\n",
       "  <thead>\n",
       "    <tr style=\"text-align: right;\">\n",
       "      <th></th>\n",
       "      <th>player id</th>\n",
       "      <th>finish_preds</th>\n",
       "    </tr>\n",
       "  </thead>\n",
       "  <tbody>\n",
       "    <tr>\n",
       "      <th>0</th>\n",
       "      <td>16</td>\n",
       "      <td>48.984451</td>\n",
       "    </tr>\n",
       "    <tr>\n",
       "      <th>1</th>\n",
       "      <td>10577</td>\n",
       "      <td>71.396824</td>\n",
       "    </tr>\n",
       "    <tr>\n",
       "      <th>2</th>\n",
       "      <td>5548</td>\n",
       "      <td>35.490957</td>\n",
       "    </tr>\n",
       "    <tr>\n",
       "      <th>3</th>\n",
       "      <td>6015</td>\n",
       "      <td>61.675382</td>\n",
       "    </tr>\n",
       "    <tr>\n",
       "      <th>4</th>\n",
       "      <td>10372</td>\n",
       "      <td>45.304341</td>\n",
       "    </tr>\n",
       "    <tr>\n",
       "      <th>...</th>\n",
       "      <td>...</td>\n",
       "      <td>...</td>\n",
       "    </tr>\n",
       "    <tr>\n",
       "      <th>116</th>\n",
       "      <td>1614</td>\n",
       "      <td>63.330153</td>\n",
       "    </tr>\n",
       "    <tr>\n",
       "      <th>117</th>\n",
       "      <td>11119</td>\n",
       "      <td>28.767282</td>\n",
       "    </tr>\n",
       "    <tr>\n",
       "      <th>118</th>\n",
       "      <td>10140</td>\n",
       "      <td>20.333264</td>\n",
       "    </tr>\n",
       "    <tr>\n",
       "      <th>119</th>\n",
       "      <td>9040</td>\n",
       "      <td>62.136972</td>\n",
       "    </tr>\n",
       "    <tr>\n",
       "      <th>120</th>\n",
       "      <td>686</td>\n",
       "      <td>65.053618</td>\n",
       "    </tr>\n",
       "  </tbody>\n",
       "</table>\n",
       "<p>121 rows × 2 columns</p>\n",
       "</div>"
      ],
      "text/plain": [
       "     player id  finish_preds\n",
       "0           16     48.984451\n",
       "1        10577     71.396824\n",
       "2         5548     35.490957\n",
       "3         6015     61.675382\n",
       "4        10372     45.304341\n",
       "..         ...           ...\n",
       "116       1614     63.330153\n",
       "117      11119     28.767282\n",
       "118      10140     20.333264\n",
       "119       9040     62.136972\n",
       "120        686     65.053618\n",
       "\n",
       "[121 rows x 2 columns]"
      ]
     },
     "execution_count": 110,
     "metadata": {},
     "output_type": "execute_result"
    }
   ],
   "source": [
    "finish_preds = pd.DataFrame()\n",
    "finish_preds[\"player id\"] =  test[\"player id\"]\n",
    "finish_preds[\"finish_preds\"] = test_preds\n",
    "\n",
    "finish_preds"
   ]
  },
  {
   "cell_type": "code",
   "execution_count": 115,
   "id": "84faec40",
   "metadata": {},
   "outputs": [],
   "source": [
    "df = pd.merge(finish_preds, ids, on=\"player id\")\n",
    "df.to_csv(\"sklearn_linear_preds.csv\")"
   ]
  },
  {
   "cell_type": "code",
   "execution_count": 116,
   "id": "79da674e",
   "metadata": {},
   "outputs": [
    {
     "data": {
      "text/html": [
       "<div>\n",
       "<style scoped>\n",
       "    .dataframe tbody tr th:only-of-type {\n",
       "        vertical-align: middle;\n",
       "    }\n",
       "\n",
       "    .dataframe tbody tr th {\n",
       "        vertical-align: top;\n",
       "    }\n",
       "\n",
       "    .dataframe thead th {\n",
       "        text-align: right;\n",
       "    }\n",
       "</style>\n",
       "<table border=\"1\" class=\"dataframe\">\n",
       "  <thead>\n",
       "    <tr style=\"text-align: right;\">\n",
       "      <th></th>\n",
       "      <th>player id</th>\n",
       "      <th>finish_preds</th>\n",
       "      <th>player</th>\n",
       "    </tr>\n",
       "  </thead>\n",
       "  <tbody>\n",
       "    <tr>\n",
       "      <th>51</th>\n",
       "      <td>9780</td>\n",
       "      <td>14.871281</td>\n",
       "      <td>Jon Rahm</td>\n",
       "    </tr>\n",
       "    <tr>\n",
       "      <th>98</th>\n",
       "      <td>9478</td>\n",
       "      <td>18.974344</td>\n",
       "      <td>Scottie Scheffler</td>\n",
       "    </tr>\n",
       "    <tr>\n",
       "      <th>114</th>\n",
       "      <td>5553</td>\n",
       "      <td>20.320680</td>\n",
       "      <td>Tyrrell Hatton</td>\n",
       "    </tr>\n",
       "    <tr>\n",
       "      <th>118</th>\n",
       "      <td>10140</td>\n",
       "      <td>20.333264</td>\n",
       "      <td>Xander Schauffele</td>\n",
       "    </tr>\n",
       "    <tr>\n",
       "      <th>111</th>\n",
       "      <td>2230</td>\n",
       "      <td>21.151423</td>\n",
       "      <td>Tony Finau</td>\n",
       "    </tr>\n",
       "    <tr>\n",
       "      <th>76</th>\n",
       "      <td>8973</td>\n",
       "      <td>22.598949</td>\n",
       "      <td>Max Homa</td>\n",
       "    </tr>\n",
       "    <tr>\n",
       "      <th>89</th>\n",
       "      <td>3470</td>\n",
       "      <td>23.055262</td>\n",
       "      <td>Rory McIlroy</td>\n",
       "    </tr>\n",
       "    <tr>\n",
       "      <th>110</th>\n",
       "      <td>5539</td>\n",
       "      <td>23.629236</td>\n",
       "      <td>Tommy Fleetwood</td>\n",
       "    </tr>\n",
       "    <tr>\n",
       "      <th>46</th>\n",
       "      <td>1680</td>\n",
       "      <td>23.837394</td>\n",
       "      <td>Jason Day</td>\n",
       "    </tr>\n",
       "    <tr>\n",
       "      <th>82</th>\n",
       "      <td>6007</td>\n",
       "      <td>25.254995</td>\n",
       "      <td>Patrick Cantlay</td>\n",
       "    </tr>\n",
       "    <tr>\n",
       "      <th>115</th>\n",
       "      <td>4364873</td>\n",
       "      <td>26.283830</td>\n",
       "      <td>Viktor Hovland</td>\n",
       "    </tr>\n",
       "    <tr>\n",
       "      <th>87</th>\n",
       "      <td>3702</td>\n",
       "      <td>26.543043</td>\n",
       "      <td>Rickie Fowler</td>\n",
       "    </tr>\n",
       "    <tr>\n",
       "      <th>117</th>\n",
       "      <td>11119</td>\n",
       "      <td>28.767282</td>\n",
       "      <td>Wyndham Clark</td>\n",
       "    </tr>\n",
       "    <tr>\n",
       "      <th>54</th>\n",
       "      <td>569</td>\n",
       "      <td>28.913886</td>\n",
       "      <td>Justin Rose</td>\n",
       "    </tr>\n",
       "    <tr>\n",
       "      <th>43</th>\n",
       "      <td>5860</td>\n",
       "      <td>29.164984</td>\n",
       "      <td>Hideki Matsuyama</td>\n",
       "    </tr>\n",
       "    <tr>\n",
       "      <th>52</th>\n",
       "      <td>5467</td>\n",
       "      <td>31.398292</td>\n",
       "      <td>Jordan Spieth</td>\n",
       "    </tr>\n",
       "    <tr>\n",
       "      <th>109</th>\n",
       "      <td>6086</td>\n",
       "      <td>32.449939</td>\n",
       "      <td>Tom Hoge</td>\n",
       "    </tr>\n",
       "    <tr>\n",
       "      <th>81</th>\n",
       "      <td>3792</td>\n",
       "      <td>32.620893</td>\n",
       "      <td>Nick Taylor</td>\n",
       "    </tr>\n",
       "    <tr>\n",
       "      <th>7</th>\n",
       "      <td>5502</td>\n",
       "      <td>32.658559</td>\n",
       "      <td>Andrew Putnam</td>\n",
       "    </tr>\n",
       "    <tr>\n",
       "      <th>73</th>\n",
       "      <td>257</td>\n",
       "      <td>32.669215</td>\n",
       "      <td>Matt Kuchar</td>\n",
       "    </tr>\n",
       "    <tr>\n",
       "      <th>106</th>\n",
       "      <td>11382</td>\n",
       "      <td>32.906622</td>\n",
       "      <td>Sungjae Im</td>\n",
       "    </tr>\n",
       "    <tr>\n",
       "      <th>100</th>\n",
       "      <td>8961</td>\n",
       "      <td>33.386235</td>\n",
       "      <td>Sepp Straka</td>\n",
       "    </tr>\n",
       "    <tr>\n",
       "      <th>35</th>\n",
       "      <td>10522</td>\n",
       "      <td>33.597688</td>\n",
       "      <td>Eric Cole</td>\n",
       "    </tr>\n",
       "    <tr>\n",
       "      <th>71</th>\n",
       "      <td>9143</td>\n",
       "      <td>34.199136</td>\n",
       "      <td>Mark Hubbard</td>\n",
       "    </tr>\n",
       "    <tr>\n",
       "      <th>57</th>\n",
       "      <td>4513</td>\n",
       "      <td>34.561121</td>\n",
       "      <td>Keegan Bradley</td>\n",
       "    </tr>\n",
       "  </tbody>\n",
       "</table>\n",
       "</div>"
      ],
      "text/plain": [
       "     player id  finish_preds             player\n",
       "51        9780     14.871281           Jon Rahm\n",
       "98        9478     18.974344  Scottie Scheffler\n",
       "114       5553     20.320680     Tyrrell Hatton\n",
       "118      10140     20.333264  Xander Schauffele\n",
       "111       2230     21.151423         Tony Finau\n",
       "76        8973     22.598949           Max Homa\n",
       "89        3470     23.055262       Rory McIlroy\n",
       "110       5539     23.629236    Tommy Fleetwood\n",
       "46        1680     23.837394          Jason Day\n",
       "82        6007     25.254995    Patrick Cantlay\n",
       "115    4364873     26.283830     Viktor Hovland\n",
       "87        3702     26.543043      Rickie Fowler\n",
       "117      11119     28.767282      Wyndham Clark\n",
       "54         569     28.913886        Justin Rose\n",
       "43        5860     29.164984   Hideki Matsuyama\n",
       "52        5467     31.398292      Jordan Spieth\n",
       "109       6086     32.449939           Tom Hoge\n",
       "81        3792     32.620893        Nick Taylor\n",
       "7         5502     32.658559      Andrew Putnam\n",
       "73         257     32.669215        Matt Kuchar\n",
       "106      11382     32.906622         Sungjae Im\n",
       "100       8961     33.386235        Sepp Straka\n",
       "35       10522     33.597688          Eric Cole\n",
       "71        9143     34.199136       Mark Hubbard\n",
       "57        4513     34.561121     Keegan Bradley"
      ]
     },
     "execution_count": 116,
     "metadata": {},
     "output_type": "execute_result"
    }
   ],
   "source": [
    "df.sort_values(by=['finish_preds'], ascending=True)[0:25]"
   ]
  },
  {
   "cell_type": "markdown",
   "id": "55dd0e54",
   "metadata": {},
   "source": [
    "this model is predicting John Rahm to finish lowest in the US open, followed by scottie, tyrell hatton and xander. granted the lowest finish is only 14, but we can still try to track and see how the model does!"
   ]
  },
  {
   "cell_type": "code",
   "execution_count": null,
   "id": "e9340392",
   "metadata": {},
   "outputs": [],
   "source": []
  }
 ],
 "metadata": {
  "kernelspec": {
   "display_name": "Python 3 (ipykernel)",
   "language": "python",
   "name": "python3"
  },
  "language_info": {
   "codemirror_mode": {
    "name": "ipython",
    "version": 3
   },
   "file_extension": ".py",
   "mimetype": "text/x-python",
   "name": "python",
   "nbconvert_exporter": "python",
   "pygments_lexer": "ipython3",
   "version": "3.11.3"
  }
 },
 "nbformat": 4,
 "nbformat_minor": 5
}
